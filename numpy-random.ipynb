{
 "cells": [
  {
   "cell_type": "markdown",
   "id": "bc5bf275-6fca-4a92-a95d-66e51b4562d9",
   "metadata": {},
   "source": [
    "## The Numpy Random Packge\n",
    "\n",
    "Official Documentation https://numpy.org/doc/stable/reference/random/index.html <br>\n",
    "Tutorial: https://www.datacamp.com/community/tutorials/numpy-random <br>\n",
    "Scipy: https://numpy.org/doc/1.16/reference/routines.random.html\n",
    "\n",
    "***\n"
   ]
  },
  {
   "cell_type": "code",
   "execution_count": 1,
   "id": "1f367d2c-07f4-4a62-b00c-4c161c32b3af",
   "metadata": {},
   "outputs": [],
   "source": [
    "# efficient numerical arrays\n",
    "import numpy as np\n",
    "# plotting\n",
    "import matplotlib.pyplot as plt"
   ]
  },
  {
   "cell_type": "markdown",
   "id": "a84de8c6-e31a-4e95-b27a-ff259684c130",
   "metadata": {},
   "source": [
    "#### some NUMPY fundamentals"
   ]
  },
  {
   "cell_type": "code",
   "execution_count": 2,
   "id": "641c3999-89ad-4659-8ec1-02929732f777",
   "metadata": {},
   "outputs": [
    {
     "data": {
      "text/plain": [
       "array([[0., 0., 0., 0.],\n",
       "       [0., 0., 0., 0.],\n",
       "       [0., 0., 0., 0.]])"
      ]
     },
     "execution_count": 2,
     "metadata": {},
     "output_type": "execute_result"
    }
   ],
   "source": [
    "# Create an array of zeros\n",
    "np.zeros((3,4)) "
   ]
  },
  {
   "cell_type": "code",
   "execution_count": 3,
   "id": "f424bc0d-bcda-4f59-bf0d-6ccfc8075276",
   "metadata": {},
   "outputs": [
    {
     "data": {
      "text/plain": [
       "array([[[1, 1, 1, 1],\n",
       "        [1, 1, 1, 1],\n",
       "        [1, 1, 1, 1]],\n",
       "\n",
       "       [[1, 1, 1, 1],\n",
       "        [1, 1, 1, 1],\n",
       "        [1, 1, 1, 1]]], dtype=int16)"
      ]
     },
     "execution_count": 3,
     "metadata": {},
     "output_type": "execute_result"
    }
   ],
   "source": [
    "# Create an array of ones (num, rows, columns)\n",
    "np.ones((2,3,4),dtype=np.int16) "
   ]
  },
  {
   "cell_type": "code",
   "execution_count": 39,
   "id": "2dfc425f-414f-4583-82a7-9d05bf211b4c",
   "metadata": {},
   "outputs": [
    {
     "data": {
      "text/plain": [
       "array([10, 15, 20])"
      ]
     },
     "execution_count": 39,
     "metadata": {},
     "output_type": "execute_result"
    }
   ],
   "source": [
    "# Create an array of evenly spaced values\n",
    "# mid value is end of range (not included)\n",
    "# last value = intervals\n",
    "d = np.arange(10,25,5)\n",
    "d"
   ]
  },
  {
   "cell_type": "code",
   "execution_count": 40,
   "id": "dd4ac000-3a85-4366-bf19-3532d2c11bb5",
   "metadata": {},
   "outputs": [
    {
     "data": {
      "text/plain": [
       "array([0.        , 0.55555556, 1.11111111, 1.66666667, 2.22222222,\n",
       "       2.77777778, 3.33333333, 3.88888889, 4.44444444, 5.        ])"
      ]
     },
     "execution_count": 40,
     "metadata": {},
     "output_type": "execute_result"
    }
   ],
   "source": [
    "# Create an array of evenly spaced values\n",
    "# last value defines how many values in output array- including initial & final\n",
    "np.linspace(0,5,10)"
   ]
  },
  {
   "cell_type": "code",
   "execution_count": 6,
   "id": "d580b78b-bf9e-44f2-a0cf-f64c2306d6e0",
   "metadata": {},
   "outputs": [
    {
     "data": {
      "text/plain": [
       "array([[6, 6],\n",
       "       [6, 6]])"
      ]
     },
     "execution_count": 6,
     "metadata": {},
     "output_type": "execute_result"
    }
   ],
   "source": [
    "# Create a constant array i.e with defined value\n",
    "e = np.full((2,2),6) \n",
    "e"
   ]
  },
  {
   "cell_type": "code",
   "execution_count": 7,
   "id": "27e5bbf2-f8e8-453a-b9c2-803cf7824325",
   "metadata": {},
   "outputs": [
    {
     "data": {
      "text/plain": [
       "array([[1., 0., 0., 0., 0., 0., 0., 0., 0., 0.],\n",
       "       [0., 1., 0., 0., 0., 0., 0., 0., 0., 0.],\n",
       "       [0., 0., 1., 0., 0., 0., 0., 0., 0., 0.],\n",
       "       [0., 0., 0., 1., 0., 0., 0., 0., 0., 0.],\n",
       "       [0., 0., 0., 0., 1., 0., 0., 0., 0., 0.],\n",
       "       [0., 0., 0., 0., 0., 1., 0., 0., 0., 0.],\n",
       "       [0., 0., 0., 0., 0., 0., 1., 0., 0., 0.],\n",
       "       [0., 0., 0., 0., 0., 0., 0., 1., 0., 0.],\n",
       "       [0., 0., 0., 0., 0., 0., 0., 0., 1., 0.],\n",
       "       [0., 0., 0., 0., 0., 0., 0., 0., 0., 1.]])"
      ]
     },
     "execution_count": 7,
     "metadata": {},
     "output_type": "execute_result"
    }
   ],
   "source": [
    "# Create a 2X2 identity matrix\n",
    "f = np.eye(10)\n",
    "f"
   ]
  },
  {
   "cell_type": "markdown",
   "id": "66ddbf27-600e-4722-aec7-b30967aa2a13",
   "metadata": {},
   "source": [
    "#### NumPy Random\n",
    "---"
   ]
  },
  {
   "cell_type": "code",
   "execution_count": 8,
   "id": "eac3e1f9-3591-4833-8b63-174826aa1956",
   "metadata": {},
   "outputs": [
    {
     "data": {
      "text/plain": [
       "array([[0.14196781, 0.00593914],\n",
       "       [0.9253748 , 0.78552625]])"
      ]
     },
     "execution_count": 8,
     "metadata": {},
     "output_type": "execute_result"
    }
   ],
   "source": [
    "# Create an array with random values (float between 0 and 1)\n",
    "np.random.random((2,2))"
   ]
  },
  {
   "cell_type": "code",
   "execution_count": 9,
   "id": "9ce79794-d3a7-4d87-8df8-53dbaebe3ce9",
   "metadata": {},
   "outputs": [
    {
     "data": {
      "text/plain": [
       "array([2, 6])"
      ]
     },
     "execution_count": 9,
     "metadata": {},
     "output_type": "execute_result"
    }
   ],
   "source": [
    "# Create an array with random values of upper range shown\n",
    "np.random.randint((10,10))"
   ]
  },
  {
   "cell_type": "code",
   "execution_count": 10,
   "id": "3f629eb8-3dce-4ff4-8f24-b09d12ba4ec0",
   "metadata": {},
   "outputs": [
    {
     "data": {
      "text/plain": [
       "array([[1, 4, 0, 4],\n",
       "       [2, 1, 2, 0]])"
      ]
     },
     "execution_count": 10,
     "metadata": {},
     "output_type": "execute_result"
    }
   ],
   "source": [
    "np.random.randint(5, size=(2, 4))"
   ]
  },
  {
   "cell_type": "code",
   "execution_count": 11,
   "id": "23a9cbc5-18b4-4499-a407-b6864e2f1fc8",
   "metadata": {},
   "outputs": [
    {
     "data": {
      "text/plain": [
       "array([0.70906823, 0.07734762, 0.83987713, 0.70436796, 0.38517181])"
      ]
     },
     "execution_count": 11,
     "metadata": {},
     "output_type": "execute_result"
    }
   ],
   "source": [
    "np.random.random_sample((5,))"
   ]
  },
  {
   "cell_type": "code",
   "execution_count": 12,
   "id": "58b03882-ea09-4e55-8c7c-ffff3363110e",
   "metadata": {},
   "outputs": [
    {
     "data": {
      "text/plain": [
       "array([[-1.51012315, -1.72916075],\n",
       "       [-1.87792948, -1.90671258],\n",
       "       [-1.52506955, -1.4736889 ]])"
      ]
     },
     "execution_count": 12,
     "metadata": {},
     "output_type": "execute_result"
    }
   ],
   "source": [
    "np.random.random_sample((3, 2)) - 2"
   ]
  },
  {
   "cell_type": "code",
   "execution_count": 13,
   "id": "386db63b-2944-40a8-89e5-ebe01146c3cd",
   "metadata": {},
   "outputs": [],
   "source": [
    "mu, sigma = 0, 0.1 # mean and standard deviation\n",
    "s = np.random.normal(mu, sigma, 1000)"
   ]
  },
  {
   "cell_type": "code",
   "execution_count": 14,
   "id": "0be22397-214f-41e2-8229-538281f9cbd2",
   "metadata": {},
   "outputs": [
    {
     "data": {
      "text/plain": [
       "True"
      ]
     },
     "execution_count": 14,
     "metadata": {},
     "output_type": "execute_result"
    }
   ],
   "source": [
    "# verify mean\n",
    "abs(mu - np.mean(s)) < 0.01"
   ]
  },
  {
   "cell_type": "code",
   "execution_count": 15,
   "id": "05070752-81fe-4fdc-9a9e-5bc3d2a9c401",
   "metadata": {},
   "outputs": [
    {
     "data": {
      "text/plain": [
       "True"
      ]
     },
     "execution_count": 15,
     "metadata": {},
     "output_type": "execute_result"
    }
   ],
   "source": [
    "# verify variance\n",
    "abs(sigma - np.std(s, ddof=1)) < 0.01"
   ]
  },
  {
   "cell_type": "code",
   "execution_count": 16,
   "id": "c28aabdd-a286-4bb3-9832-b61e3ad4bc02",
   "metadata": {},
   "outputs": [
    {
     "data": {
      "image/png": "[encoded data removed]",
      "text/plain": [
       "<Figure size 432x288 with 1 Axes>"
      ]
     },
     "metadata": {
      "needs_background": "light"
     },
     "output_type": "display_data"
    }
   ],
   "source": [
    "# Display the histogram of the samples, along with the probability density function:\n",
    "count, bins, ignored = plt.hist(s, 30, density=True)\n",
    "plt.plot(bins, 1/(sigma * np.sqrt(2 * np.pi)) * np.exp( - (bins - mu)**2 / (2 * sigma**2) ),linewidth=2, color='r')\n",
    "plt.show()"
   ]
  },
  {
   "cell_type": "markdown",
   "id": "7d96d891-fabc-4917-aca6-afe3e29d2c4a",
   "metadata": {},
   "source": [
    "#### Binomial\n",
    "---"
   ]
  },
  {
   "cell_type": "code",
   "execution_count": 17,
   "id": "a3580eac-b90c-4bd1-9a28-2e0501dae0fb",
   "metadata": {},
   "outputs": [
    {
     "data": {
      "text/plain": [
       "array([5, 7, 4, 6, 6, 5, 5, 6, 3, 5])"
      ]
     },
     "execution_count": 17,
     "metadata": {},
     "output_type": "execute_result"
    }
   ],
   "source": [
    "n, p = 10, .5  # number of trials, probability of each trial\n",
    "s = np.random.binomial(n, p, 10)\n",
    "# result of flipping a coin 10 times, tested 10 times.\n",
    "s"
   ]
  },
  {
   "cell_type": "markdown",
   "id": "725d083e-fcb0-4a75-a11a-71d02587f45a",
   "metadata": {},
   "source": [
    "#### Poisson\n",
    "---\n"
   ]
  },
  {
   "cell_type": "code",
   "execution_count": 18,
   "id": "cc688d54-077b-4008-acd0-7c8bad2e9f1b",
   "metadata": {},
   "outputs": [
    {
     "data": {
      "image/png": "[encoded data removed]",
      "text/plain": [
       "<Figure size 432x288 with 1 Axes>"
      ]
     },
     "metadata": {
      "needs_background": "light"
     },
     "output_type": "display_data"
    }
   ],
   "source": [
    " s = np.random.poisson(5, 1000)\n",
    "# (lanbda, size) Expectation of interval, should be >= 0. A sequence of expectation intervals must be broadcastable over the requested size\n",
    "count, bins, ignored = plt.hist(s, 14, density=True)\n",
    "plt.show()"
   ]
  },
  {
   "cell_type": "code",
   "execution_count": null,
   "id": "8b582549-85c9-460f-b136-49ac5b214a71",
   "metadata": {},
   "outputs": [],
   "source": []
  },
  {
   "cell_type": "code",
   "execution_count": 19,
   "id": "5054daf4-6813-4841-9131-3004144858be",
   "metadata": {},
   "outputs": [
    {
     "data": {
      "text/plain": [
       "array([[ 29.        , 231.74603175],\n",
       "       [253.44      , 253.44      ],\n",
       "       [ 36.        , 253.44      ]])"
      ]
     },
     "execution_count": 19,
     "metadata": {},
     "output_type": "execute_result"
    }
   ],
   "source": [
    "# Create an array with random values\n",
    "np.empty((3,2))"
   ]
  },
  {
   "cell_type": "code",
   "execution_count": 20,
   "id": "76ed168d-d709-4860-9ac8-1ac1812aad39",
   "metadata": {},
   "outputs": [],
   "source": [
    "# how to save a numpy array as a file\n",
    "x = np.arange(0.0,5.0,1.0)\n",
    "np.savetxt('test.csv', x, delimiter=',')"
   ]
  },
  {
   "cell_type": "markdown",
   "id": "cd2b0099-889a-4b36-8926-cc91f8f44e88",
   "metadata": {},
   "source": [
    "## how to adjust figure size in pyplot\n",
    "\n",
    "https://stackoverflow.com/questions/36367986/how-to-make-inline-plots-in-jupyter-notebook-larger"
   ]
  },
  {
   "cell_type": "code",
   "execution_count": 21,
   "id": "cf4d4d51-f0d5-4aee-a3ce-ee4e7d78f9ff",
   "metadata": {},
   "outputs": [],
   "source": [
    "# change the default figure size\n",
    "plt.rcParams['figure.figsize'] = [10, 5]\n",
    "#customizing styles in matplotlib\n",
    "plt.style.use('fivethirtyeight')"
   ]
  },
  {
   "cell_type": "code",
   "execution_count": null,
   "id": "d747ff57-89bd-4777-afa4-d50445d4deae",
   "metadata": {},
   "outputs": [],
   "source": []
  },
  {
   "cell_type": "markdown",
   "id": "f93fea4a-ff75-412e-b2e3-3ebea05c700e",
   "metadata": {},
   "source": []
  },
  {
   "cell_type": "code",
   "execution_count": null,
   "id": "d0c3d8f7-0f72-40fb-856a-1aa5812e5437",
   "metadata": {},
   "outputs": [],
   "source": []
  },
  {
   "cell_type": "code",
   "execution_count": null,
   "id": "8535cc1a-80ec-4eb9-92b1-03c2b5347d17",
   "metadata": {},
   "outputs": [],
   "source": []
  },
  {
   "cell_type": "code",
   "execution_count": null,
   "id": "a73e5764-5617-44ed-b4ab-afba379e4edf",
   "metadata": {},
   "outputs": [],
   "source": []
  },
  {
   "cell_type": "markdown",
   "id": "480b6c0b-2d75-4d41-a866-b8cc353abce7",
   "metadata": {},
   "source": [
    "## To list all available styles, use:\n",
    "print(plt.style.available)"
   ]
  },
  {
   "cell_type": "markdown",
   "id": "103497fd-be55-40a6-a2ff-858140ac2c0b",
   "metadata": {},
   "source": [
    "print(plt.style.available)"
   ]
  },
  {
   "cell_type": "markdown",
   "id": "67d80275-bc45-4911-9095-1770e156cc17",
   "metadata": {},
   "source": [
    "\n",
    "## numpy.random.normal\n",
    "\n",
    "https://numpy.org/doc/stable/reference/random/generated/numpy.random.normal.html?highlight=normal#numpy.random.normal\n"
   ]
  },
  {
   "cell_type": "code",
   "execution_count": 22,
   "id": "9446ab73-28ad-4b67-943f-0e599e4bfe97",
   "metadata": {},
   "outputs": [],
   "source": [
    "mu, sigma = 0, 0.1 # mean and standard deviation\n",
    "s = np.random.normal(mu, sigma, 1000)"
   ]
  },
  {
   "cell_type": "code",
   "execution_count": null,
   "id": "4bbec170-c97b-4d46-bf0c-a2472a3c9189",
   "metadata": {},
   "outputs": [],
   "source": []
  },
  {
   "cell_type": "code",
   "execution_count": 23,
   "id": "06b32e0f-1338-4772-9a46-d18e9f6b2d00",
   "metadata": {
    "tags": []
   },
   "outputs": [
    {
     "data": {
      "text/plain": [
       "array([ 0.05673757,  0.06663866, -0.09201018,  0.04791474, -0.08490821,\n",
       "       -0.08006367, -0.03134097,  0.08459784,  0.0750077 ,  0.11199248])"
      ]
     },
     "execution_count": 23,
     "metadata": {},
     "output_type": "execute_result"
    }
   ],
   "source": [
    "## can examine dataset 's' just execute.  Can also right click and enable scrolling\n",
    "## can select e.g. 1st 10 data in the list using square brackets and colon\n",
    "s [:10]"
   ]
  },
  {
   "cell_type": "code",
   "execution_count": null,
   "id": "00649baa-99bb-407d-b14a-6c1dcc837499",
   "metadata": {},
   "outputs": [],
   "source": []
  },
  {
   "cell_type": "code",
   "execution_count": 24,
   "id": "7a183b33-02ad-4f55-a987-8b495dfaf6ef",
   "metadata": {},
   "outputs": [
    {
     "data": {
      "text/plain": [
       "0.003205512688012779"
      ]
     },
     "execution_count": 24,
     "metadata": {},
     "output_type": "execute_result"
    }
   ],
   "source": [
    "abs(mu - np.mean(s))"
   ]
  },
  {
   "cell_type": "code",
   "execution_count": null,
   "id": "87880267-9aa4-44bc-b14b-eecfe4726386",
   "metadata": {},
   "outputs": [],
   "source": []
  },
  {
   "cell_type": "code",
   "execution_count": 25,
   "id": "d962da0e-312d-4cc4-af01-f4e06d634b79",
   "metadata": {},
   "outputs": [
    {
     "data": {
      "text/plain": [
       "0.0015473674794150155"
      ]
     },
     "execution_count": 25,
     "metadata": {},
     "output_type": "execute_result"
    }
   ],
   "source": [
    "abs(sigma - np.std(s, ddof=1))"
   ]
  },
  {
   "cell_type": "code",
   "execution_count": null,
   "id": "c5794a77-c9ba-43fb-a444-9ad4275464ba",
   "metadata": {},
   "outputs": [],
   "source": []
  },
  {
   "cell_type": "markdown",
   "id": "a010fca9-fe94-4282-9c4d-e9d666122c2d",
   "metadata": {},
   "source": [
    "## Use of specific code in script for styles: \n",
    "e.g.: plt.plot(bins,f,**linewidth=2, color='r'**) <br>\n",
    "better off not having defined parameters in code if already using styletype code early in script"
   ]
  },
  {
   "cell_type": "code",
   "execution_count": 26,
   "id": "fe4b4c20-46f2-4ab3-a722-869eb829ec91",
   "metadata": {},
   "outputs": [
    {
     "data": {
      "image/png": "[encoded data removed]",
      "text/plain": [
       "<Figure size 720x360 with 1 Axes>"
      ]
     },
     "metadata": {},
     "output_type": "display_data"
    }
   ],
   "source": [
    "count, bins, ignored = plt.hist(s, 30, density=True)\n",
    "f = 1/(sigma*np.sqrt(2* np.pi))* np.exp(-(bins - mu)**2/(2*sigma**2))\n",
    "plt.plot(bins,f)\n",
    "plt.show()"
   ]
  },
  {
   "cell_type": "code",
   "execution_count": null,
   "id": "27e09a01-323e-4b01-92a7-7f4e4655cf35",
   "metadata": {},
   "outputs": [],
   "source": []
  },
  {
   "cell_type": "markdown",
   "id": "089f6e91-b67d-482a-b264-dfed450eba62",
   "metadata": {},
   "source": [
    "##numpy.random.normal\n",
    "\n",
    "https://numpy.org/doc/stable/reference/random/generated/numpy.random.normal.html\n",
    "****\n"
   ]
  },
  {
   "cell_type": "markdown",
   "id": "af343418-a6ed-40a5-b070-cf3de07a59f0",
   "metadata": {},
   "source": [
    "## References\n",
    "- https://www.datacamp.com/community/tutorials/numpy-random\n",
    "\n"
   ]
  },
  {
   "cell_type": "markdown",
   "id": "45ef430a-d4b2-4159-9a99-f7b574b7202c",
   "metadata": {},
   "source": [
    "****\n",
    "## Rolling Dice\n",
    "***\n"
   ]
  },
  {
   "cell_type": "markdown",
   "id": "ab96ae68-2fca-41ae-af39-7c345d48719d",
   "metadata": {},
   "source": [
    "## roll a single dice\n",
    "\n",
    "-https://numpy.org/doc/stable/reference/random/generator.html\n"
   ]
  },
  {
   "cell_type": "raw",
   "id": "674627cd-5c58-4f61-806b-1e7689b34486",
   "metadata": {},
   "source": []
  },
  {
   "cell_type": "code",
   "execution_count": 27,
   "id": "1e7a79fd-cad4-47f4-bca6-92ac84ac07d2",
   "metadata": {},
   "outputs": [
    {
     "data": {
      "text/plain": [
       "5"
      ]
     },
     "execution_count": 27,
     "metadata": {},
     "output_type": "execute_result"
    }
   ],
   "source": [
    "# pick a random integer between 1 (inclusive) and 7(exclusive)\n",
    "np.random.randint(1,7)"
   ]
  },
  {
   "cell_type": "code",
   "execution_count": 28,
   "id": "5e3ba860-4adb-4347-baee-c5d299a4d959",
   "metadata": {},
   "outputs": [],
   "source": [
    "runs = 10"
   ]
  },
  {
   "cell_type": "code",
   "execution_count": 29,
   "id": "69d3bc78-a28b-4e23-9576-078aed77ef22",
   "metadata": {},
   "outputs": [],
   "source": [
    "# pick many random integer between 1 (inclusive) and 7(exclusive)\n",
    "dice = np.random.randint(1,7, runs)"
   ]
  },
  {
   "cell_type": "code",
   "execution_count": 30,
   "id": "c26e0129-b216-4833-9109-c6fc06ec9a1a",
   "metadata": {},
   "outputs": [
    {
     "name": "stdout",
     "output_type": "stream",
     "text": [
      "[5 5 6 6 2 5 4 2 6 2]\n"
     ]
    }
   ],
   "source": [
    "print(dice)"
   ]
  },
  {
   "cell_type": "markdown",
   "id": "65400cb5-cebf-4e7f-bc5f-e0f89f6e7ec7",
   "metadata": {},
   "source": [
    "pyplot already downloaded as plt <br>\n",
    "Use of numpy.unique function\n",
    "- https://numpy.org/doc/stable/reference/generated/numpy.unique.html"
   ]
  },
  {
   "cell_type": "markdown",
   "id": "a473f146-b15d-4c90-b014-dd5f3df3124e",
   "metadata": {},
   "source": [
    "<br>\n",
    "\n",
    "## plot the dice rolls"
   ]
  },
  {
   "cell_type": "code",
   "execution_count": 31,
   "id": "20a63a9d-581b-49e9-b9d4-ca9f0af9bbfc",
   "metadata": {},
   "outputs": [
    {
     "data": {
      "text/plain": [
       "array([2, 4, 5, 6])"
      ]
     },
     "execution_count": 31,
     "metadata": {},
     "output_type": "execute_result"
    }
   ],
   "source": [
    "#find out what are the unique values in the array\n",
    "np.unique(dice)"
   ]
  },
  {
   "cell_type": "code",
   "execution_count": 32,
   "id": "be70062a-93a0-4f45-91d6-af0f5785de75",
   "metadata": {},
   "outputs": [],
   "source": [
    "# count the number of times each face appears\n",
    "# 1st array = unique values 2nd array is count of iteration\n",
    "faces,counts = np.unique(dice, return_counts=True)"
   ]
  },
  {
   "cell_type": "code",
   "execution_count": 33,
   "id": "64d9c37f-4e9f-461c-a328-d86f65b53487",
   "metadata": {},
   "outputs": [
    {
     "data": {
      "text/plain": [
       "Text(0.5, 0, 'count')"
      ]
     },
     "execution_count": 33,
     "metadata": {},
     "output_type": "execute_result"
    },
    {
     "data": {
      "image/png": "[encoded data removed]",
      "text/plain": [
       "<Figure size 720x360 with 1 Axes>"
      ]
     },
     "metadata": {},
     "output_type": "display_data"
    }
   ],
   "source": [
    "# create a new plot \n",
    "#plot using fig and ax\n",
    "# read real python: 'python plotting in matplotlib'\n",
    "fig, ax =plt.subplots()\n",
    "ax.barh(faces, counts)\n",
    "ax.set_ylabel('face')\n",
    "ax.set_xlabel('count')"
   ]
  },
  {
   "cell_type": "code",
   "execution_count": null,
   "id": "189aca96-4cb4-4ff8-8417-5ab44465a670",
   "metadata": {},
   "outputs": [],
   "source": []
  },
  {
   "cell_type": "markdown",
   "id": "cf7a3da5-0ab5-4927-af93-d51aa1f1e067",
   "metadata": {},
   "source": [
    "<br>\n",
    "## Roll more than one dice\n",
    "\n"
   ]
  },
  {
   "cell_type": "code",
   "execution_count": 34,
   "id": "69b50ad1-dc96-4bc7-bcd1-ba8972eac518",
   "metadata": {},
   "outputs": [
    {
     "data": {
      "text/plain": [
       "array([[4, 4],\n",
       "       [3, 4],\n",
       "       [3, 2],\n",
       "       ...,\n",
       "       [1, 3],\n",
       "       [5, 4],\n",
       "       [1, 2]])"
      ]
     },
     "execution_count": 34,
     "metadata": {},
     "output_type": "execute_result"
    }
   ],
   "source": [
    "# the number of dice to roll ine ach turn\n",
    "nodice = 2\n",
    "#The number of turns\n",
    "noturns = 10000\n",
    "#roll the dice\n",
    "dice = np.random.randint(1,7, (noturns,nodice))\n",
    "#have a look at dice\n",
    "dice"
   ]
  },
  {
   "cell_type": "code",
   "execution_count": 35,
   "id": "8d8544ef-70d9-4599-ac81-8223e78781a2",
   "metadata": {},
   "outputs": [
    {
     "data": {
      "text/plain": [
       "Text(0.5, 0, 'count')"
      ]
     },
     "execution_count": 35,
     "metadata": {},
     "output_type": "execute_result"
    },
    {
     "data": {
      "image/png": "[encoded data removed]",
      "text/plain": [
       "<Figure size 720x360 with 1 Axes>"
      ]
     },
     "metadata": {},
     "output_type": "display_data"
    }
   ],
   "source": [
    "#sum the faces of dice\n",
    "#np.sum will add the values of a np array\n",
    "#axis = 1 means it will add horizontally in the array i.e. 1st & 2nd die\n",
    "totals= np.sum(dice, axis =1)\n",
    "totals\n",
    "sums,counts = np.unique(totals, return_counts=True)\n",
    "fig, ax =plt.subplots()\n",
    "#barh = horizontal bar = vertical\n",
    "ax.bar(sums, counts)\n",
    "ax.set_ylabel('sum')\n",
    "ax.set_xlabel('count')"
   ]
  },
  {
   "cell_type": "code",
   "execution_count": null,
   "id": "e25c9bb1-5863-455e-bdeb-ab1d52bf6b56",
   "metadata": {},
   "outputs": [],
   "source": []
  },
  {
   "cell_type": "markdown",
   "id": "06c7ad4a-3ec8-4479-9708-e356def78b6d",
   "metadata": {},
   "source": [
    "## lots of dice\n",
    "***"
   ]
  },
  {
   "cell_type": "code",
   "execution_count": 36,
   "id": "a60ce2b6-d070-45ee-82a3-a979104d5687",
   "metadata": {},
   "outputs": [
    {
     "data": {
      "text/plain": [
       "Text(0.5, 0, 'count')"
      ]
     },
     "execution_count": 36,
     "metadata": {},
     "output_type": "execute_result"
    },
    {
     "data": {
      "image/png": "[encoded data removed]",
      "text/plain": [
       "<Figure size 720x360 with 1 Axes>"
      ]
     },
     "metadata": {},
     "output_type": "display_data"
    }
   ],
   "source": [
    "# the number of dice to roll ine ach turn\n",
    "nodice = 10\n",
    "#The number of turns\n",
    "noturns = 10000\n",
    "#roll the dice\n",
    "dice = np.random.randint(1,7, (noturns,nodice))\n",
    "\n",
    "#sum the faces of dice\n",
    "#np.sum will add the values of a np array\n",
    "#axis = 1 means it will add horizontally in the array i.e. 1st & 2nd die\n",
    "totals= np.sum(dice, axis =1)\n",
    "totals\n",
    "sums,counts = np.unique(totals, return_counts=True)\n",
    "fig, ax =plt.subplots()\n",
    "#barh = horizontal bar = vertical\n",
    "ax.bar(sums, counts)\n",
    "ax.set_ylabel('sum')\n",
    "ax.set_xlabel('count')\n"
   ]
  },
  {
   "cell_type": "code",
   "execution_count": 42,
   "id": "d7111ea1-6d8e-4834-9e7b-4f4c631c83d0",
   "metadata": {},
   "outputs": [
    {
     "name": "stdout",
     "output_type": "stream",
     "text": [
      "I want 49 pieces of item number 567 for 3.00000000 dollars.\n"
     ]
    }
   ],
   "source": [
    "# Syntax\n",
    "quantity = 3\n",
    "itemno = 567\n",
    "price = 49\n",
    "myorder = \"I want {2} pieces of item number {1} for {0:.8f} dollars.\"\n",
    "print(myorder.format(quantity, itemno, price))"
   ]
  },
  {
   "cell_type": "code",
   "execution_count": null,
   "id": "d8122377-ff5d-434c-9acd-75993c5b086a",
   "metadata": {},
   "outputs": [],
   "source": []
  }
 ],
 "metadata": {
  "kernelspec": {
   "display_name": "Python 3",
   "language": "python",
   "name": "python3"
  },
  "language_info": {
   "codemirror_mode": {
    "name": "ipython",
    "version": 3
   },
   "file_extension": ".py",
   "mimetype": "text/x-python",
   "name": "python",
   "nbconvert_exporter": "python",
   "pygments_lexer": "ipython3",
   "version": "3.8.8"
  }
 },
 "nbformat": 4,
 "nbformat_minor": 5
}
