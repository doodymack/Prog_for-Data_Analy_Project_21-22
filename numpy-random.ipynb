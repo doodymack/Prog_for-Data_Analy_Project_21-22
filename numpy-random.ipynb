{
 "cells": [
  {
   "cell_type": "markdown",
   "id": "bc5bf275-6fca-4a92-a95d-66e51b4562d9",
   "metadata": {},
   "source": [
    "## The Numpy Random Packge\n",
    "\n",
    "Official Documentation https://numpy.org/doc/stable/reference/random/index.html\n",
    "    Tutorial: https://www.datacamp.com/community/tutorials/numpy-random\n",
    "\n",
    "***\n"
   ]
  },
  {
   "cell_type": "code",
   "execution_count": 1,
   "id": "1f367d2c-07f4-4a62-b00c-4c161c32b3af",
   "metadata": {},
   "outputs": [],
   "source": [
    "# efficient numerical arrays\n",
    "import numpy as np\n",
    "# plotting\n",
    "import matplotlib.pyplot as plt"
   ]
  },
  {
   "cell_type": "markdown",
   "id": "cd2b0099-889a-4b36-8926-cc91f8f44e88",
   "metadata": {},
   "source": [
    "## how to adjust figure size in pyplot\n",
    "\n",
    "https://stackoverflow.com/questions/36367986/how-to-make-inline-plots-in-jupyter-notebook-larger"
   ]
  },
  {
   "cell_type": "code",
   "execution_count": 2,
   "id": "cf4d4d51-f0d5-4aee-a3ce-ee4e7d78f9ff",
   "metadata": {},
   "outputs": [],
   "source": [
    "# change the default figure size\n",
    "plt.rcParams['figure.figsize'] = [10, 5]\n",
    "#customizing styles in matplotlib\n",
    "plt.style.use('fivethirtyeight')"
   ]
  },
  {
   "cell_type": "code",
   "execution_count": null,
   "id": "d747ff57-89bd-4777-afa4-d50445d4deae",
   "metadata": {},
   "outputs": [],
   "source": []
  },
  {
   "cell_type": "markdown",
   "id": "480b6c0b-2d75-4d41-a866-b8cc353abce7",
   "metadata": {},
   "source": [
    "## To list all available styles, use:\n",
    "print(plt.style.available)"
   ]
  },
  {
   "cell_type": "markdown",
   "id": "103497fd-be55-40a6-a2ff-858140ac2c0b",
   "metadata": {},
   "source": [
    "print(plt.style.available)"
   ]
  },
  {
   "cell_type": "markdown",
   "id": "67d80275-bc45-4911-9095-1770e156cc17",
   "metadata": {},
   "source": [
    "\n",
    "## numpy.random.normal\n",
    "\n",
    "https://numpy.org/doc/stable/reference/random/generated/numpy.random.normal.html?highlight=normal#numpy.random.normal\n"
   ]
  },
  {
   "cell_type": "code",
   "execution_count": 3,
   "id": "9446ab73-28ad-4b67-943f-0e599e4bfe97",
   "metadata": {},
   "outputs": [],
   "source": [
    "mu, sigma = 0, 0.1 # mean and standard deviation\n",
    "s = np.random.normal(mu, sigma, 1000)"
   ]
  },
  {
   "cell_type": "code",
   "execution_count": null,
   "id": "4bbec170-c97b-4d46-bf0c-a2472a3c9189",
   "metadata": {},
   "outputs": [],
   "source": []
  },
  {
   "cell_type": "code",
   "execution_count": 4,
   "id": "06b32e0f-1338-4772-9a46-d18e9f6b2d00",
   "metadata": {
    "tags": []
   },
   "outputs": [
    {
     "data": {
      "text/plain": [
       "array([-0.1996803 ,  0.14337474,  0.1317452 ,  0.01042523,  0.03286972,\n",
       "        0.09004207,  0.08596113, -0.19214575,  0.03966646,  0.05153663])"
      ]
     },
     "execution_count": 4,
     "metadata": {},
     "output_type": "execute_result"
    }
   ],
   "source": [
    "## can examine dataset 's' just execute.  Can also right click and enable scrolling\n",
    "## can select e.g. 1st 10 data in the list using square brackets and colon\n",
    "s [:10]"
   ]
  },
  {
   "cell_type": "code",
   "execution_count": null,
   "id": "00649baa-99bb-407d-b14a-6c1dcc837499",
   "metadata": {},
   "outputs": [],
   "source": []
  },
  {
   "cell_type": "code",
   "execution_count": 5,
   "id": "7a183b33-02ad-4f55-a987-8b495dfaf6ef",
   "metadata": {},
   "outputs": [
    {
     "data": {
      "text/plain": [
       "0.004027752824569551"
      ]
     },
     "execution_count": 5,
     "metadata": {},
     "output_type": "execute_result"
    }
   ],
   "source": [
    "abs(mu - np.mean(s))"
   ]
  },
  {
   "cell_type": "code",
   "execution_count": null,
   "id": "87880267-9aa4-44bc-b14b-eecfe4726386",
   "metadata": {},
   "outputs": [],
   "source": []
  },
  {
   "cell_type": "code",
   "execution_count": 6,
   "id": "d962da0e-312d-4cc4-af01-f4e06d634b79",
   "metadata": {},
   "outputs": [
    {
     "data": {
      "text/plain": [
       "0.0008074230070113791"
      ]
     },
     "execution_count": 6,
     "metadata": {},
     "output_type": "execute_result"
    }
   ],
   "source": [
    "abs(sigma - np.std(s, ddof=1))"
   ]
  },
  {
   "cell_type": "code",
   "execution_count": null,
   "id": "c5794a77-c9ba-43fb-a444-9ad4275464ba",
   "metadata": {},
   "outputs": [],
   "source": []
  },
  {
   "cell_type": "markdown",
   "id": "a010fca9-fe94-4282-9c4d-e9d666122c2d",
   "metadata": {},
   "source": [
    "## Use of specific code in script for styles: \n",
    "e.g.: plt.plot(bins,f,**linewidth=2, color='r'**) <br>\n",
    "better off not having defined parameters in code if already using styletype code early in script"
   ]
  },
  {
   "cell_type": "code",
   "execution_count": 7,
   "id": "fe4b4c20-46f2-4ab3-a722-869eb829ec91",
   "metadata": {},
   "outputs": [
    {
     "data": {
      "image/png": "[encoded data removed]",
      "text/plain": [
       "<Figure size 720x360 with 1 Axes>"
      ]
     },
     "metadata": {},
     "output_type": "display_data"
    }
   ],
   "source": [
    "count, bins, ignored = plt.hist(s, 30, density=True)\n",
    "f = 1/(sigma*np.sqrt(2* np.pi))* np.exp(-(bins - mu)**2/(2*sigma**2))\n",
    "plt.plot(bins,f)\n",
    "plt.show()"
   ]
  },
  {
   "cell_type": "code",
   "execution_count": null,
   "id": "27e09a01-323e-4b01-92a7-7f4e4655cf35",
   "metadata": {},
   "outputs": [],
   "source": []
  },
  {
   "cell_type": "markdown",
   "id": "089f6e91-b67d-482a-b264-dfed450eba62",
   "metadata": {},
   "source": [
    "##numpy.random.normal\n",
    "\n",
    "https://numpy.org/doc/stable/reference/random/generated/numpy.random.normal.html\n",
    "****\n"
   ]
  },
  {
   "cell_type": "markdown",
   "id": "af343418-a6ed-40a5-b070-cf3de07a59f0",
   "metadata": {},
   "source": [
    "## References\n",
    "- https://www.datacamp.com/community/tutorials/numpy-random\n",
    "\n"
   ]
  },
  {
   "cell_type": "markdown",
   "id": "45ef430a-d4b2-4159-9a99-f7b574b7202c",
   "metadata": {},
   "source": [
    "****\n",
    "## Rolling Dice\n",
    "***\n"
   ]
  },
  {
   "cell_type": "markdown",
   "id": "ab96ae68-2fca-41ae-af39-7c345d48719d",
   "metadata": {},
   "source": [
    "## roll a single dice\n",
    "\n",
    "-https://numpy.org/doc/stable/reference/random/generator.html\n"
   ]
  },
  {
   "cell_type": "raw",
   "id": "674627cd-5c58-4f61-806b-1e7689b34486",
   "metadata": {},
   "source": []
  },
  {
   "cell_type": "code",
   "execution_count": 18,
   "id": "1e7a79fd-cad4-47f4-bca6-92ac84ac07d2",
   "metadata": {},
   "outputs": [
    {
     "data": {
      "text/plain": [
       "6"
      ]
     },
     "execution_count": 18,
     "metadata": {},
     "output_type": "execute_result"
    }
   ],
   "source": [
    "# pick a random integer between 1 (inclusive) and 7(exclusive)\n",
    "np.random.randint(1,7)"
   ]
  },
  {
   "cell_type": "code",
   "execution_count": 29,
   "id": "5e3ba860-4adb-4347-baee-c5d299a4d959",
   "metadata": {},
   "outputs": [],
   "source": [
    "runs = 10"
   ]
  },
  {
   "cell_type": "code",
   "execution_count": 30,
   "id": "69d3bc78-a28b-4e23-9576-078aed77ef22",
   "metadata": {},
   "outputs": [],
   "source": [
    "# pick many random integer between 1 (inclusive) and 7(exclusive)\n",
    "dice = np.random.randint(1,7, runs)"
   ]
  },
  {
   "cell_type": "code",
   "execution_count": 31,
   "id": "c26e0129-b216-4833-9109-c6fc06ec9a1a",
   "metadata": {},
   "outputs": [
    {
     "name": "stdout",
     "output_type": "stream",
     "text": [
      "[6 1 3 1 5 2 6 2 2 2]\n"
     ]
    }
   ],
   "source": [
    "print(dice)"
   ]
  },
  {
   "cell_type": "markdown",
   "id": "65400cb5-cebf-4e7f-bc5f-e0f89f6e7ec7",
   "metadata": {},
   "source": [
    "pyplot already downloaded as plt <br>\n",
    "Use of numpy.unique function\n",
    "- https://numpy.org/doc/stable/reference/generated/numpy.unique.html"
   ]
  },
  {
   "cell_type": "markdown",
   "id": "a473f146-b15d-4c90-b014-dd5f3df3124e",
   "metadata": {},
   "source": [
    "<br>\n",
    "\n",
    "## plot the dice rolls"
   ]
  },
  {
   "cell_type": "code",
   "execution_count": 33,
   "id": "20a63a9d-581b-49e9-b9d4-ca9f0af9bbfc",
   "metadata": {},
   "outputs": [
    {
     "data": {
      "text/plain": [
       "array([1, 2, 3, 5, 6])"
      ]
     },
     "execution_count": 33,
     "metadata": {},
     "output_type": "execute_result"
    }
   ],
   "source": [
    "#find out what are the unique values in the array\n",
    "np.unique(dice)"
   ]
  },
  {
   "cell_type": "code",
   "execution_count": 39,
   "id": "be70062a-93a0-4f45-91d6-af0f5785de75",
   "metadata": {},
   "outputs": [],
   "source": [
    "# count the number of times each face appears\n",
    "# 1st array = unique values 2nd array is count of iteration\n",
    "faces,counts = np.unique(dice, return_counts=True)"
   ]
  },
  {
   "cell_type": "code",
   "execution_count": 41,
   "id": "64d9c37f-4e9f-461c-a328-d86f65b53487",
   "metadata": {},
   "outputs": [
    {
     "data": {
      "text/plain": [
       "Text(0.5, 0, 'count')"
      ]
     },
     "execution_count": 41,
     "metadata": {},
     "output_type": "execute_result"
    },
    {
     "data": {
      "image/png": "[encoded data removed]",
      "text/plain": [
       "<Figure size 720x360 with 1 Axes>"
      ]
     },
     "metadata": {},
     "output_type": "display_data"
    }
   ],
   "source": [
    "# create a new plot \n",
    "#plot using fig and ax\n",
    "# read real python: 'python plotting in matplotlib'\n",
    "fig, ax =plt.subplots()\n",
    "ax.barh(faces, counts)\n",
    "ax.set_ylabel('face')\n",
    "ax.set_xlabel('count')"
   ]
  },
  {
   "cell_type": "code",
   "execution_count": null,
   "id": "189aca96-4cb4-4ff8-8417-5ab44465a670",
   "metadata": {},
   "outputs": [],
   "source": []
  },
  {
   "cell_type": "markdown",
   "id": "cf7a3da5-0ab5-4927-af93-d51aa1f1e067",
   "metadata": {},
   "source": [
    "<br>\n",
    "## Roll more than one dice\n",
    "\n"
   ]
  },
  {
   "cell_type": "code",
   "execution_count": 45,
   "id": "69b50ad1-dc96-4bc7-bcd1-ba8972eac518",
   "metadata": {},
   "outputs": [
    {
     "data": {
      "text/plain": [
       "array([[3, 3],\n",
       "       [6, 4],\n",
       "       [6, 3],\n",
       "       ...,\n",
       "       [3, 4],\n",
       "       [6, 1],\n",
       "       [4, 2]])"
      ]
     },
     "execution_count": 45,
     "metadata": {},
     "output_type": "execute_result"
    }
   ],
   "source": [
    "# the number of dice to roll ine ach turn\n",
    "nodice = 2\n",
    "#The number of turns\n",
    "noturns = 10000\n",
    "#roll the dice\n",
    "dice = np.random.randint(1,7, (noturns,nodice))\n",
    "#have a look at dice\n",
    "dice"
   ]
  },
  {
   "cell_type": "code",
   "execution_count": 52,
   "id": "8d8544ef-70d9-4599-ac81-8223e78781a2",
   "metadata": {},
   "outputs": [
    {
     "data": {
      "text/plain": [
       "Text(0.5, 0, 'count')"
      ]
     },
     "execution_count": 52,
     "metadata": {},
     "output_type": "execute_result"
    },
    {
     "data": {
      "image/png": "[encoded data removed]",
      "text/plain": [
       "<Figure size 720x360 with 1 Axes>"
      ]
     },
     "metadata": {},
     "output_type": "display_data"
    }
   ],
   "source": [
    "#sum the faces of dice\n",
    "#np.sum will add the values of a np array\n",
    "#axis = 1 means it will add horizontally in the array i.e. 1st & 2nd die\n",
    "totals= np.sum(dice, axis =1)\n",
    "totals\n",
    "sums,counts = np.unique(totals, return_counts=True)\n",
    "fig, ax =plt.subplots()\n",
    "#barh = horizontal bar = vertical\n",
    "ax.bar(sums, counts)\n",
    "ax.set_ylabel('sum')\n",
    "ax.set_xlabel('count')"
   ]
  },
  {
   "cell_type": "code",
   "execution_count": null,
   "id": "e25c9bb1-5863-455e-bdeb-ab1d52bf6b56",
   "metadata": {},
   "outputs": [],
   "source": []
  },
  {
   "cell_type": "markdown",
   "id": "06c7ad4a-3ec8-4479-9708-e356def78b6d",
   "metadata": {},
   "source": [
    "## lots of dice\n",
    "***"
   ]
  },
  {
   "cell_type": "code",
   "execution_count": 55,
   "id": "a60ce2b6-d070-45ee-82a3-a979104d5687",
   "metadata": {},
   "outputs": [
    {
     "data": {
      "text/plain": [
       "Text(0.5, 0, 'count')"
      ]
     },
     "execution_count": 55,
     "metadata": {},
     "output_type": "execute_result"
    },
    {
     "data": {
      "image/png": "[encoded data removed]",
      "text/plain": [
       "<Figure size 720x360 with 1 Axes>"
      ]
     },
     "metadata": {},
     "output_type": "display_data"
    }
   ],
   "source": [
    "# the number of dice to roll ine ach turn\n",
    "nodice = 10\n",
    "#The number of turns\n",
    "noturns = 10000\n",
    "#roll the dice\n",
    "dice = np.random.randint(1,7, (noturns,nodice))\n",
    "\n",
    "#sum the faces of dice\n",
    "#np.sum will add the values of a np array\n",
    "#axis = 1 means it will add horizontally in the array i.e. 1st & 2nd die\n",
    "totals= np.sum(dice, axis =1)\n",
    "totals\n",
    "sums,counts = np.unique(totals, return_counts=True)\n",
    "fig, ax =plt.subplots()\n",
    "#barh = horizontal bar = vertical\n",
    "ax.bar(sums, counts)\n",
    "ax.set_ylabel('sum')\n",
    "ax.set_xlabel('count')\n"
   ]
  },
  {
   "cell_type": "code",
   "execution_count": null,
   "id": "d7111ea1-6d8e-4834-9e7b-4f4c631c83d0",
   "metadata": {},
   "outputs": [],
   "source": []
  },
  {
   "cell_type": "code",
   "execution_count": null,
   "id": "d8122377-ff5d-434c-9acd-75993c5b086a",
   "metadata": {},
   "outputs": [],
   "source": []
  }
 ],
 "metadata": {
  "kernelspec": {
   "display_name": "Python 3",
   "language": "python",
   "name": "python3"
  },
  "language_info": {
   "codemirror_mode": {
    "name": "ipython",
    "version": 3
   },
   "file_extension": ".py",
   "mimetype": "text/x-python",
   "name": "python",
   "nbconvert_exporter": "python",
   "pygments_lexer": "ipython3",
   "version": "3.8.8"
  }
 },
 "nbformat": 4,
 "nbformat_minor": 5
}
