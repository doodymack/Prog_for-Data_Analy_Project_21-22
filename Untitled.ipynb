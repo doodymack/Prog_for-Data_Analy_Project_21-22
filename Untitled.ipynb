{
 "cells": [
  {
   "cell_type": "markdown",
   "id": "e6fb2408-f460-4e73-b716-2f1a4179b38b",
   "metadata": {},
   "source": [
    "# Project- Winter Semester 2021-2022"
   ]
  },
  {
   "cell_type": "markdown",
   "id": "a07805d8-6f27-44ec-8c44-76316f394bde",
   "metadata": {},
   "source": [
    "## Programming for Data Analysis"
   ]
  },
  {
   "cell_type": "markdown",
   "id": "6a05adb2-fbcf-4e43-9889-486bfdb1ee1f",
   "metadata": {},
   "source": [
    "### Paul Mc Grath"
   ]
  },
  {
   "cell_type": "markdown",
   "id": "f10baa63-fa6d-4d23-8ebb-a44d05564f99",
   "metadata": {},
   "source": [
    "### Problem statement\n",
    "For this project you must create a data set by simulating a real-world phenomenon of your choosing. You may pick any phenomenon you wish <br> – you might pick one that is\n",
    "of interest to you in your personal or professional life. <br>Then, rather than collect data\n",
    "related to the phenomenon, you should model and synthesise such data using Python.<br><br>\n",
    "We suggest you use the numpy.random package for this purpose. <br>\n",
    "Specifically, in this project you should:\n",
    "- Choose a real-world phenomenon that can be measured and for which you could collect at least one-hundred data points across at least four different variables.\n",
    "- Investigate the types of variables involved, their likely distributions, and their relationships with each other.\n",
    "- Synthesise/simulate a data set as closely matching their properties as possible.\n",
    "- Detail your research and implement the simulation in a Jupyter notebook – the data set itself can simply be displayed in an output cell within the notebook.\n",
    "Note that this project is about simulation – you must synthesise a data set. <br> <br>Some students may already have some real-world data sets in their own files. It is okay tobase your synthesised data set on these should you wish (please reference it if you do),<br>\n",
    "but the main task in this project is to create a synthesised data set."
   ]
  },
  {
   "cell_type": "code",
   "execution_count": null,
   "id": "172fd984-3164-404f-809d-3b2a59e266b0",
   "metadata": {},
   "outputs": [],
   "source": []
  }
 ],
 "metadata": {
  "kernelspec": {
   "display_name": "Python 3",
   "language": "python",
   "name": "python3"
  },
  "language_info": {
   "codemirror_mode": {
    "name": "ipython",
    "version": 3
   },
   "file_extension": ".py",
   "mimetype": "text/x-python",
   "name": "python",
   "nbconvert_exporter": "python",
   "pygments_lexer": "ipython3",
   "version": "3.8.8"
  }
 },
 "nbformat": 4,
 "nbformat_minor": 5
}
