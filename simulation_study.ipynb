{
 "cells": [
  {
   "cell_type": "markdown",
   "id": "e6fb2408-f460-4e73-b716-2f1a4179b38b",
   "metadata": {},
   "source": [
    "# Project- Winter Semester 2021-2022"
   ]
  },
  {
   "cell_type": "markdown",
   "id": "a07805d8-6f27-44ec-8c44-76316f394bde",
   "metadata": {},
   "source": [
    "## Programming for Data Analysis"
   ]
  },
  {
   "cell_type": "markdown",
   "id": "6a05adb2-fbcf-4e43-9889-486bfdb1ee1f",
   "metadata": {},
   "source": [
    "### Paul Mc Grath"
   ]
  },
  {
   "cell_type": "markdown",
   "id": "f10baa63-fa6d-4d23-8ebb-a44d05564f99",
   "metadata": {},
   "source": [
    "### Problem statement\n",
    "For this project you must create a data set by simulating a real-world phenomenon of your choosing. You may pick any phenomenon you wish <br> – you might pick one that is\n",
    "of interest to you in your personal or professional life. <br>Then, rather than collect data\n",
    "related to the phenomenon, you should model and synthesise such data using Python.<br><br>\n",
    "We suggest you use the numpy.random package for this purpose. <br>\n",
    "Specifically, in this project you should:\n",
    "- Choose a real-world phenomenon that can be measured and for which you could collect at least one-hundred data points across at least four different variables.\n",
    "- Investigate the types of variables involved, their likely distributions, and their relationships with each other.\n",
    "- Synthesise/simulate a data set as closely matching their properties as possible.\n",
    "- Detail your research and implement the simulation in a Jupyter notebook – the data set itself can simply be displayed in an output cell within the notebook.\n",
    "Note that this project is about simulation – you must synthesise a data set. <br> <br>Some students may already have some real-world data sets in their own files. It is okay tobase your synthesised data set on these should you wish (please reference it if you do),<br>\n",
    "but the main task in this project is to create a synthesised data set."
   ]
  },
  {
   "cell_type": "markdown",
   "id": "709a2f71-a7ea-4c75-b5af-a699a4fc1284",
   "metadata": {},
   "source": [
    "Lecturer example:\n",
    "\n",
    "### Title: Performance of students studying a 10 credit module\n",
    "\n",
    "Most interesting variable:\n",
    "- Mark a student receives in the module **(grade)**\n",
    "\n",
    "**1 Find a real-world phenomenon as above.**\n",
    "\n",
    "**2 Investigate the problem (online)**\n",
    "\n",
    "Upon investigation of the problem:\n",
    "\n",
    "- number of hours a student studies per week **(hours)**\n",
    "- number of times the logon to Moodle in the first 3 weeks of term **(logins)**\n",
    "- previous level of degree qualification **(qual)**\n",
    "\n",
    "are closely related to (grade)\n",
    "\n",
    "*Hours and grade* variables will be *non-negative, read numbers* with *two decimal places*\n",
    "*Logins* will be a *non-zero integer* and *qual* will be a *categorical variable* with four possible values: *none, bachelors, masters or PhD*\n",
    "\n",
    "\n",
    "**3.  I investigate the other '4' variables, and I also look at the  relationship between the variables: **\n",
    "\n",
    "**3a investigate the other '4' variables**\n",
    "\n",
    "- how many students do well when it cones to grades\n",
    "- how many students don't do well\n",
    "- is the average grade 50-60% for example (this would establish the mean)\n",
    "- whats the standard deviation\n",
    "\n",
    "- Hours per week\n",
    "After some online research I find that full-time postgraduate students study on average *4 hours per week* with a standard deviation of *1/4 hour* and that a *normal distribution* is an acceptable model of such a variable.\n",
    "\n",
    "- Logins per week\n",
    "\n",
    "- Qualification\n",
    "\n",
    "- Grade\n",
    "\n",
    "**3b explore the relationship between the variables** e.g \n",
    "\n",
    "- logins vs grade (positive linear correlation?scatter plot)\n",
    "- hours vs grade (positive linear correlation? scatter plot)\n",
    "- qual vs grade (correlation? bar histogram/scatter plot)\n",
    "\n",
    " after detailed research I establish that it may be able to predict students grades based on the data that was available based on looking at the above features\n",
    "\n",
    "**devise an algorithm (or method)  to generate such a dataset**\n",
    "\n",
    " e.g. simulating values of the 4 variables for two hunderd students\n",
    " \n",
    "**Detail all the work in a notebook and then add some code to generate a dataset with those properties**\n",
    " \n",
    " - all of these are design choices made by the data analyst\n",
    " - can try to find relationship of peoples grades to number of hours studied per week, or hpw grafes can relate to consistent engagement through the semester\n",
    " \n",
    " -at the end of the day the code is going to be quite small in the notebook e.g.\n",
    " \n",
    " - identify variable w (i.e. grade)\n",
    " - identify distribution it should follow i.e normal/binomial/poisson\n",
    " - estimate the standard deviation from online research\n",
    " - generate an array of 200 data points using numpy.random algorithm\n",
    " - repeat for variables x, y and z.  (HOW THEY LINK TO EACH OTHER)\n",
    " - construct pandas dataframe with 200 data points for variables w,x,y and z\n",
    " - plot relationship (scatteer plot, matplotlib)\n",
    " - summarize"
   ]
  },
  {
   "cell_type": "markdown",
   "id": "272d3792-b613-42f1-9a2c-902a31b1b0c2",
   "metadata": {},
   "source": []
  },
  {
   "cell_type": "markdown",
   "id": "351dc4a3-7e39-4493-944c-fde2fbac377c",
   "metadata": {},
   "source": []
  }
 ],
 "metadata": {
  "kernelspec": {
   "display_name": "Python 3",
   "language": "python",
   "name": "python3"
  },
  "language_info": {
   "codemirror_mode": {
    "name": "ipython",
    "version": 3
   },
   "file_extension": ".py",
   "mimetype": "text/x-python",
   "name": "python",
   "nbconvert_exporter": "python",
   "pygments_lexer": "ipython3",
   "version": "3.8.8"
  }
 },
 "nbformat": 4,
 "nbformat_minor": 5
}
