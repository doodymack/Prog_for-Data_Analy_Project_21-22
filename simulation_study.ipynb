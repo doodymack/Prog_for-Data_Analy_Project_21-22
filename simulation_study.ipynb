{
 "cells": [
  {
   "cell_type": "markdown",
   "id": "e6fb2408-f460-4e73-b716-2f1a4179b38b",
   "metadata": {},
   "source": [
    "# Project- Winter Semester 2021-2022"
   ]
  },
  {
   "cell_type": "markdown",
   "id": "a07805d8-6f27-44ec-8c44-76316f394bde",
   "metadata": {},
   "source": [
    "## Programming for Data Analysis"
   ]
  },
  {
   "cell_type": "markdown",
   "id": "6a05adb2-fbcf-4e43-9889-486bfdb1ee1f",
   "metadata": {},
   "source": [
    "### Paul Mc Grath"
   ]
  },
  {
   "cell_type": "markdown",
   "id": "f10baa63-fa6d-4d23-8ebb-a44d05564f99",
   "metadata": {},
   "source": [
    "### Problem statement\n",
    "For this project you must create a data set by simulating a real-world phenomenon of your choosing. You may pick any phenomenon you wish <br> – you might pick one that is\n",
    "of interest to you in your personal or professional life. <br>Then, rather than collect data\n",
    "related to the phenomenon, you should model and synthesise such data using Python.<br><br>\n",
    "We suggest you use the numpy.random package for this purpose. <br>\n",
    "Specifically, in this project you should:\n",
    "- Choose a real-world phenomenon that can be measured and for which you could collect at least one-hundred data points across at least four different variables.\n",
    "- Investigate the types of variables involved, their likely distributions, and their relationships with each other.\n",
    "- Synthesise/simulate a data set as closely matching their properties as possible.\n",
    "- Detail your research and implement the simulation in a Jupyter notebook – the data set itself can simply be displayed in an output cell within the notebook.\n",
    "Note that this project is about simulation – you must synthesise a data set. <br> <br>Some students may already have some real-world data sets in their own files. It is okay tobase your synthesised data set on these should you wish (please reference it if you do),<br>\n",
    "but the main task in this project is to create a synthesised data set."
   ]
  },
  {
   "cell_type": "markdown",
   "id": "709a2f71-a7ea-4c75-b5af-a699a4fc1284",
   "metadata": {},
   "source": [
    "Lecturer example:\n",
    "\n",
    "### Title: Performance of students studying a 10 credit module\n",
    "\n",
    "Most interesting variable:\n",
    "- Mark a student receives in the module **(grade)**\n",
    "\n",
    "**1 Find a real-world phenomenon as above.**\n",
    "\n",
    "**2 Investigate the problem (online)**\n",
    "\n",
    "Upon investigation of the problem:\n",
    "\n",
    "- number of hours a student studies per week **(hours)**\n",
    "- number of times the logon to Moodle in the first 3 weeks of term **(logins)**\n",
    "- previous level of degree qualification **(qual)**\n",
    "\n",
    "are closely related to (grade)\n",
    "\n",
    "*Hours and grade* variables will be *non-negative, read numbers* with *two decimal places*\n",
    "*Logins* will be a *non-zero integer* and *qual* will be a *categorical variable* with four possible values: *none, bachelors, masters or PhD*\n",
    "\n",
    "\n",
    "**3.  I investigate the other '4' variables, and I also look at the  relationship between the variables: **\n",
    "\n",
    "**3a investigate the other '4' variables**\n",
    "\n",
    "- how many students do well when it cones to grades\n",
    "- how many students don't do well\n",
    "- is the average grade 50-60% for example (this would establish the mean)\n",
    "- whats the standard deviation\n",
    "\n",
    "- Hours per week\n",
    "After some online research I find that full-time postgraduate students study on average *4 hours per week* with a standard deviation of *1/4 hour* and that a *normal distribution* is an acceptable model of such a variable.\n",
    "\n",
    "- Logins per week\n",
    "\n",
    "- Qualification\n",
    "\n",
    "- Grade\n",
    "\n",
    "**3b explore the relationship between the variables** e.g \n",
    "\n",
    "- logins vs grade (positive linear correlation?scatter plot)\n",
    "- hours vs grade (positive linear correlation? scatter plot)\n",
    "- qual vs grade (correlation? bar histogram/scatter plot)\n",
    "\n",
    " after detailed research I establish that it may be able to predict students grades based on the data that was available based on looking at the above features\n",
    "\n",
    "**devise an algorithm (or method)  to generate such a dataset**\n",
    "\n",
    " e.g. simulating values of the 4 variables for two hunderd students\n",
    " \n",
    "**Detail all the work in a notebook and then add some code to generate a dataset with those properties**\n",
    " \n",
    " - all of these are design choices made by the data analyst\n",
    " - can try to find relationship of peoples grades to number of hours studied per week, or hpw grafes can relate to consistent engagement through the semester\n",
    " \n",
    " -at the end of the day the code is going to be quite small in the notebook e.g.\n",
    " \n",
    " - identify variable w (i.e. grade)\n",
    " - identify distribution it should follow i.e normal/binomial/poisson\n",
    " - estimate the standard deviation from online research\n",
    " - generate an array of 200 data points using numpy.random algorithm\n",
    " - repeat for variables x, y and z.  (HOW THEY LINK TO EACH OTHER)\n",
    " - construct pandas dataframe with 200 data points for variables w,x,y and z\n",
    " - plot relationship (scatteer plot, matplotlib)\n",
    " - summarize"
   ]
  },
  {
   "cell_type": "markdown",
   "id": "40202c62-5e1b-4b1a-a682-3f2f89635d73",
   "metadata": {},
   "source": [
    "### Prescribed reading\n",
    "\n",
    "https://realpython.com/simpy-simulating-with-python/\n"
   ]
  },
  {
   "cell_type": "markdown",
   "id": "c945b684-db74-4b28-b89a-57d58a242f15",
   "metadata": {},
   "source": [
    "https://www.youtube.com/watch?v=KAmZe5D3v5I\n",
    "\n",
    "In this in-depth Python tutorial using NumPy and Matplotlib, Caelan walks you through how to simulate the spread of a virus, using covid-19 as an example. We hope in watching this tutorial that you learn something about programming and pandemics."
   ]
  },
  {
   "cell_type": "markdown",
   "id": "61ba427c-4bf7-43e3-b812-f5e4107a70fb",
   "metadata": {},
   "source": [
    "https://towardsdatascience.com/monte-carlo-simulation-and-variants-with-python-43e3e7c59e1f"
   ]
  },
  {
   "cell_type": "markdown",
   "id": "272d3792-b613-42f1-9a2c-902a31b1b0c2",
   "metadata": {},
   "source": [
    "Below code excerpts from https://livebook.manning.com/book/data-science-bookcamp/chapter-3/v-4/55"
   ]
  },
  {
   "cell_type": "markdown",
   "id": "351dc4a3-7e39-4493-944c-fde2fbac377c",
   "metadata": {},
   "source": [
    "NumPy, which stands for Numerical Python, is the engine that powers Pythonic data science. Python, despite its many virtues, is simply not suited for large-scale numeric analysis. Hence, data scientists must rely on the external NumPy library to efficiently manipulate and store numeric data. NumPy is an incredibly powerful tool for processing large collections of raw numbers. Thus, many of Python’s external data-processing libraries are NumPy-compatible. One such library is Matplotlib, which we introduced in the previous section. Other NumPy-driven libraries will be discussed in later portions of the book. This section focuses on randomized numerical simulations. We will leverage NumPy to analyze billions of random data-points. These random observations will allow us to learn hidden probabilities"
   ]
  },
  {
   "cell_type": "markdown",
   "id": "a66d6bb8-0e16-42be-b399-3837bbc3d8ef",
   "metadata": {},
   "source": [
    "#### datasets\n",
    "\n",
    "https://github.com/awesomedata/awesome-public-datasets <br>\n",
    "https://data.gov.ie/\n",
    "\n",
    "https://ourworldindata.org/meat-production\n",
    "\n",
    "https://sebastiantellotrillo.com/resources/primer-where-to-find-data\n",
    "\n",
    "https://www.kaggle.com/datasets\n",
    "\n",
    "https://archive.ics.uci.edu/ml/index.php  (contains the iris dataset)\n",
    "\n",
    "I recently faced a similar dilemma, there is a lot of data online GitHub but I think this is the best place. I wanted something original and new but couldn’t find because most of the good / interesting data has already been analysed and used by someone. I think you should drop that mindset but use the data from there and in the process you can come up with a new and original ways of dealing with the problem. "
   ]
  },
  {
   "cell_type": "code",
   "execution_count": 1,
   "id": "9e315883-965a-4641-8c55-21c6335420de",
   "metadata": {},
   "outputs": [],
   "source": [
    "import pandas as pd\n",
    "import numpy as np"
   ]
  },
  {
   "cell_type": "code",
   "execution_count": 18,
   "id": "fd563568-b167-4c1f-8f20-a4e77ca1e9b9",
   "metadata": {},
   "outputs": [
    {
     "data": {
      "text/plain": [
       "array([0.37454012, 0.95071431, 0.73199394, 0.59865848, 0.15601864,\n",
       "       0.15599452, 0.05808361, 0.86617615])"
      ]
     },
     "execution_count": 18,
     "metadata": {},
     "output_type": "execute_result"
    }
   ],
   "source": [
    "# create arrays of numbers\n",
    "# Pseudorandom number works by starting with an integer called a seed and then generates numbers in succession. The same seed gives the same sequence of random numbers\n",
    "np.random.seed(42)\n",
    "random_numbers = np.random.random(size=8)\n",
    "random_numbers"
   ]
  },
  {
   "cell_type": "code",
   "execution_count": 16,
   "id": "e65b5022-b602-438c-92ac-0613d76388f5",
   "metadata": {},
   "outputs": [
    {
     "data": {
      "text/plain": [
       "array([ True, False, False, False])"
      ]
     },
     "execution_count": 16,
     "metadata": {},
     "output_type": "execute_result"
    }
   ],
   "source": [
    "#convert to boolean\n",
    "heads = random_numbers < 0.5\n",
    "heads"
   ]
  },
  {
   "cell_type": "code",
   "execution_count": 17,
   "id": "ccb06bb3-1067-4d9f-a574-f32d21a3bb7e",
   "metadata": {},
   "outputs": [
    {
     "data": {
      "text/plain": [
       "1"
      ]
     },
     "execution_count": 17,
     "metadata": {},
     "output_type": "execute_result"
    }
   ],
   "source": [
    "np.sum(heads)"
   ]
  },
  {
   "cell_type": "code",
   "execution_count": 40,
   "id": "ed56db08-3eb2-4f2e-bc92-0203e0d108a3",
   "metadata": {},
   "outputs": [
    {
     "data": {
      "text/plain": [
       "0.0641"
      ]
     },
     "execution_count": 40,
     "metadata": {},
     "output_type": "execute_result"
    }
   ],
   "source": [
    "n_all_heads = 0\n",
    "\n",
    "# Initialize number of 4-heads trials\n",
    "for _ in range(10000):\n",
    "        heads = np.random.random(size=4) < 0.5\n",
    "       # print(heads)\n",
    "        n_heads = np.sum(heads)\n",
    "        if n_heads == 4:\n",
    "            n_all_heads += 1\n",
    "\n",
    "n_all_heads / 10000"
   ]
  },
  {
   "cell_type": "markdown",
   "id": "aebc897c-3c90-4a45-b6b4-9adbf3531e0a",
   "metadata": {},
   "source": [
    "## Plot a histogram of random_numbers\n",
    "- Seed the random number generator with np.random.seed using the seed 42.\n",
    "- Initialize an empty array, random_numbers, of 100,000 entries to store the random numbers. Make sure you use np.empty(100000) to do this.\n",
    "- Write a for loop to draw 100,000 random numbers using np.random.random(), storing them in the random_numbers array. To do so, loop over range(100000).\n",
    "- Plot a histogram of random_numbers. It is not necessary to label the axes in this case because we are just checking the random number generator."
   ]
  },
  {
   "cell_type": "code",
   "execution_count": 41,
   "id": "0c3c0fc0-7934-488c-855b-9da9ffdcf4b6",
   "metadata": {},
   "outputs": [
    {
     "data": {
      "image/png": "[encoded data removed]",
      "text/plain": [
       "<Figure size 432x288 with 1 Axes>"
      ]
     },
     "metadata": {
      "needs_background": "light"
     },
     "output_type": "display_data"
    }
   ],
   "source": [
    "# Seed the random number generator\n",
    "np.random.seed(42)\n",
    "\n",
    "# Initialize random numbers: random_numbers\n",
    "random_numbers = np.empty(100000)\n",
    "\n",
    "# Generate random numbers by looping over range(100000)\n",
    "for i in range(100000):\n",
    "    random_numbers[i] = np.random.random()\n",
    "\n",
    "# Plot a histogram\n",
    "_ = plt.hist(random_numbers)\n",
    "\n",
    "# Show the plot\n",
    "plt.show()"
   ]
  },
  {
   "cell_type": "code",
   "execution_count": 3,
   "id": "c0b6ef43-e221-46c3-ae31-1888b05ab528",
   "metadata": {},
   "outputs": [],
   "source": []
  },
  {
   "cell_type": "markdown",
   "id": "669ba55b-7b97-4a40-8297-aca810e1234f",
   "metadata": {},
   "source": [
    "https://github.com/fivethirtyeight/data/blob/master/airline-safety/airline-safety.csv"
   ]
  },
  {
   "cell_type": "markdown",
   "id": "0b8411c7-d3b2-4780-a519-33ba662d43d6",
   "metadata": {},
   "source": [
    "Title: Wine Quality \n",
    "\n",
    "![image.png](attachment:29990ac3-9b3b-4744-8ac8-a30ed072dd40.png)\n",
    "\n",
    "2. Sources\n",
    "   Created by: Paulo Cortez (Univ. Minho), Antonio Cerdeira, Fernando Almeida, Telmo Matos and Jose Reis (CVRVV) @ 2009 \n",
    "   <br>\n",
    "   \n",
    "3. Past Usage:\n",
    "\n",
    "  P. Cortez, A. Cerdeira, F. Almeida, T. Matos and J. Reis. \n",
    "  Modeling wine preferences by data mining from physicochemical properties.\n",
    "  In Decision Support Systems, Elsevier, 47(4):547-553. ISSN: 0167-9236.\n",
    "\n",
    "  In the above reference, two datasets were created, using red and white wine samples.\n",
    "  The inputs include objective tests (e.g. PH values) and the output is based on sensory data\n",
    "  (median of at least 3 evaluations made by wine experts). Each expert graded the wine quality \n",
    "  between 0 (very bad) and 10 (very excellent). Several data mining methods were applied to model\n",
    "  these datasets under a regression approach. The support vector machine model achieved the\n",
    "  best results. Several metrics were computed: MAD, confusion matrix for a fixed error tolerance (T),\n",
    "  etc. Also, we plot the relative importances of the input variables (as measured by a sensitivity\n",
    "  analysis procedure).\n",
    " \n",
    "4. Relevant Information:\n",
    "\n",
    "   The two datasets are related to red and white variants of the Portuguese \"Vinho Verde\" wine.\n",
    "   For more details, consult: http://www.vinhoverde.pt/en/ or the reference [Cortez et al., 2009].\n",
    "   Due to privacy and logistic issues, only physicochemical (inputs) and sensory (the output) variables \n",
    "   are available (e.g. there is no data about grape types, wine brand, wine selling price, etc.).\n",
    "\n",
    "   These datasets can be viewed as classification or regression tasks.\n",
    "   The classes are ordered and not balanced (e.g. there are munch more normal wines than\n",
    "   excellent or poor ones). Outlier detection algorithms could be used to detect the few excellent\n",
    "   or poor wines. Also, we are not sure if all input variables are relevant. So\n",
    "   it could be interesting to test feature selection methods. \n",
    "\n",
    "5. Number of Instances: red wine - 1599; white wine - 4898. \n",
    "\n",
    "6. Number of Attributes: 11 + output attributehttps://archive.ics.uci.edu/ml/datasets/Wine+Quality"
   ]
  },
  {
   "attachments": {
    "29990ac3-9b3b-4744-8ac8-a30ed072dd40.png": {
     "image/png": "[encoded data removed]"
    }
   },
   "cell_type": "markdown",
   "id": "a252c7af-cf2f-43c4-8f4b-c476936f0750",
   "metadata": {},
   "source": [
    "![image.png](attachment:29990ac3-9b3b-4744-8ac8-a30ed072dd40.png)"
   ]
  },
  {
   "cell_type": "code",
   "execution_count": 4,
   "id": "45b2c7ec-1806-4079-98d2-5a963cb0fa7e",
   "metadata": {},
   "outputs": [],
   "source": [
    "dfwine_red= pd.read_csv('data/winequality_red.csv')"
   ]
  },
  {
   "cell_type": "code",
   "execution_count": 5,
   "id": "57d989bf-1406-430c-9de8-8510463cad4b",
   "metadata": {},
   "outputs": [
    {
     "data": {
      "text/html": [
       "<div>\n",
       "<style scoped>\n",
       "    .dataframe tbody tr th:only-of-type {\n",
       "        vertical-align: middle;\n",
       "    }\n",
       "\n",
       "    .dataframe tbody tr th {\n",
       "        vertical-align: top;\n",
       "    }\n",
       "\n",
       "    .dataframe thead th {\n",
       "        text-align: right;\n",
       "    }\n",
       "</style>\n",
       "<table border=\"1\" class=\"dataframe\">\n",
       "  <thead>\n",
       "    <tr style=\"text-align: right;\">\n",
       "      <th></th>\n",
       "      <th>fixed acidity</th>\n",
       "      <th>volatile acidity</th>\n",
       "      <th>citric acid</th>\n",
       "      <th>residual sugar</th>\n",
       "      <th>chlorides</th>\n",
       "      <th>free sulfur dioxide</th>\n",
       "      <th>total sulfur dioxide</th>\n",
       "      <th>density</th>\n",
       "      <th>pH</th>\n",
       "      <th>sulphates</th>\n",
       "      <th>alcohol</th>\n",
       "      <th>quality</th>\n",
       "    </tr>\n",
       "  </thead>\n",
       "  <tbody>\n",
       "    <tr>\n",
       "      <th>0</th>\n",
       "      <td>7.4</td>\n",
       "      <td>0.700</td>\n",
       "      <td>0.00</td>\n",
       "      <td>1.9</td>\n",
       "      <td>0.076</td>\n",
       "      <td>11.0</td>\n",
       "      <td>34.0</td>\n",
       "      <td>0.99780</td>\n",
       "      <td>3.51</td>\n",
       "      <td>0.56</td>\n",
       "      <td>9.4</td>\n",
       "      <td>5</td>\n",
       "    </tr>\n",
       "    <tr>\n",
       "      <th>1</th>\n",
       "      <td>7.8</td>\n",
       "      <td>0.880</td>\n",
       "      <td>0.00</td>\n",
       "      <td>2.6</td>\n",
       "      <td>0.098</td>\n",
       "      <td>25.0</td>\n",
       "      <td>67.0</td>\n",
       "      <td>0.99680</td>\n",
       "      <td>3.20</td>\n",
       "      <td>0.68</td>\n",
       "      <td>9.8</td>\n",
       "      <td>5</td>\n",
       "    </tr>\n",
       "    <tr>\n",
       "      <th>2</th>\n",
       "      <td>7.8</td>\n",
       "      <td>0.760</td>\n",
       "      <td>0.04</td>\n",
       "      <td>2.3</td>\n",
       "      <td>0.092</td>\n",
       "      <td>15.0</td>\n",
       "      <td>54.0</td>\n",
       "      <td>0.99700</td>\n",
       "      <td>3.26</td>\n",
       "      <td>0.65</td>\n",
       "      <td>9.8</td>\n",
       "      <td>5</td>\n",
       "    </tr>\n",
       "    <tr>\n",
       "      <th>3</th>\n",
       "      <td>11.2</td>\n",
       "      <td>0.280</td>\n",
       "      <td>0.56</td>\n",
       "      <td>1.9</td>\n",
       "      <td>0.075</td>\n",
       "      <td>17.0</td>\n",
       "      <td>60.0</td>\n",
       "      <td>0.99800</td>\n",
       "      <td>3.16</td>\n",
       "      <td>0.58</td>\n",
       "      <td>9.8</td>\n",
       "      <td>6</td>\n",
       "    </tr>\n",
       "    <tr>\n",
       "      <th>4</th>\n",
       "      <td>7.4</td>\n",
       "      <td>0.700</td>\n",
       "      <td>0.00</td>\n",
       "      <td>1.9</td>\n",
       "      <td>0.076</td>\n",
       "      <td>11.0</td>\n",
       "      <td>34.0</td>\n",
       "      <td>0.99780</td>\n",
       "      <td>3.51</td>\n",
       "      <td>0.56</td>\n",
       "      <td>9.4</td>\n",
       "      <td>5</td>\n",
       "    </tr>\n",
       "    <tr>\n",
       "      <th>...</th>\n",
       "      <td>...</td>\n",
       "      <td>...</td>\n",
       "      <td>...</td>\n",
       "      <td>...</td>\n",
       "      <td>...</td>\n",
       "      <td>...</td>\n",
       "      <td>...</td>\n",
       "      <td>...</td>\n",
       "      <td>...</td>\n",
       "      <td>...</td>\n",
       "      <td>...</td>\n",
       "      <td>...</td>\n",
       "    </tr>\n",
       "    <tr>\n",
       "      <th>1594</th>\n",
       "      <td>6.2</td>\n",
       "      <td>0.600</td>\n",
       "      <td>0.08</td>\n",
       "      <td>2.0</td>\n",
       "      <td>0.090</td>\n",
       "      <td>32.0</td>\n",
       "      <td>44.0</td>\n",
       "      <td>0.99490</td>\n",
       "      <td>3.45</td>\n",
       "      <td>0.58</td>\n",
       "      <td>10.5</td>\n",
       "      <td>5</td>\n",
       "    </tr>\n",
       "    <tr>\n",
       "      <th>1595</th>\n",
       "      <td>5.9</td>\n",
       "      <td>0.550</td>\n",
       "      <td>0.10</td>\n",
       "      <td>2.2</td>\n",
       "      <td>0.062</td>\n",
       "      <td>39.0</td>\n",
       "      <td>51.0</td>\n",
       "      <td>0.99512</td>\n",
       "      <td>3.52</td>\n",
       "      <td>0.76</td>\n",
       "      <td>11.2</td>\n",
       "      <td>6</td>\n",
       "    </tr>\n",
       "    <tr>\n",
       "      <th>1596</th>\n",
       "      <td>6.3</td>\n",
       "      <td>0.510</td>\n",
       "      <td>0.13</td>\n",
       "      <td>2.3</td>\n",
       "      <td>0.076</td>\n",
       "      <td>29.0</td>\n",
       "      <td>40.0</td>\n",
       "      <td>0.99574</td>\n",
       "      <td>3.42</td>\n",
       "      <td>0.75</td>\n",
       "      <td>11.0</td>\n",
       "      <td>6</td>\n",
       "    </tr>\n",
       "    <tr>\n",
       "      <th>1597</th>\n",
       "      <td>5.9</td>\n",
       "      <td>0.645</td>\n",
       "      <td>0.12</td>\n",
       "      <td>2.0</td>\n",
       "      <td>0.075</td>\n",
       "      <td>32.0</td>\n",
       "      <td>44.0</td>\n",
       "      <td>0.99547</td>\n",
       "      <td>3.57</td>\n",
       "      <td>0.71</td>\n",
       "      <td>10.2</td>\n",
       "      <td>5</td>\n",
       "    </tr>\n",
       "    <tr>\n",
       "      <th>1598</th>\n",
       "      <td>6.0</td>\n",
       "      <td>0.310</td>\n",
       "      <td>0.47</td>\n",
       "      <td>3.6</td>\n",
       "      <td>0.067</td>\n",
       "      <td>18.0</td>\n",
       "      <td>42.0</td>\n",
       "      <td>0.99549</td>\n",
       "      <td>3.39</td>\n",
       "      <td>0.66</td>\n",
       "      <td>11.0</td>\n",
       "      <td>6</td>\n",
       "    </tr>\n",
       "  </tbody>\n",
       "</table>\n",
       "<p>1599 rows × 12 columns</p>\n",
       "</div>"
      ],
      "text/plain": [
       "      fixed acidity  volatile acidity  citric acid  residual sugar  chlorides  \\\n",
       "0               7.4             0.700         0.00             1.9      0.076   \n",
       "1               7.8             0.880         0.00             2.6      0.098   \n",
       "2               7.8             0.760         0.04             2.3      0.092   \n",
       "3              11.2             0.280         0.56             1.9      0.075   \n",
       "4               7.4             0.700         0.00             1.9      0.076   \n",
       "...             ...               ...          ...             ...        ...   \n",
       "1594            6.2             0.600         0.08             2.0      0.090   \n",
       "1595            5.9             0.550         0.10             2.2      0.062   \n",
       "1596            6.3             0.510         0.13             2.3      0.076   \n",
       "1597            5.9             0.645         0.12             2.0      0.075   \n",
       "1598            6.0             0.310         0.47             3.6      0.067   \n",
       "\n",
       "      free sulfur dioxide  total sulfur dioxide  density    pH  sulphates  \\\n",
       "0                    11.0                  34.0  0.99780  3.51       0.56   \n",
       "1                    25.0                  67.0  0.99680  3.20       0.68   \n",
       "2                    15.0                  54.0  0.99700  3.26       0.65   \n",
       "3                    17.0                  60.0  0.99800  3.16       0.58   \n",
       "4                    11.0                  34.0  0.99780  3.51       0.56   \n",
       "...                   ...                   ...      ...   ...        ...   \n",
       "1594                 32.0                  44.0  0.99490  3.45       0.58   \n",
       "1595                 39.0                  51.0  0.99512  3.52       0.76   \n",
       "1596                 29.0                  40.0  0.99574  3.42       0.75   \n",
       "1597                 32.0                  44.0  0.99547  3.57       0.71   \n",
       "1598                 18.0                  42.0  0.99549  3.39       0.66   \n",
       "\n",
       "      alcohol  quality  \n",
       "0         9.4        5  \n",
       "1         9.8        5  \n",
       "2         9.8        5  \n",
       "3         9.8        6  \n",
       "4         9.4        5  \n",
       "...       ...      ...  \n",
       "1594     10.5        5  \n",
       "1595     11.2        6  \n",
       "1596     11.0        6  \n",
       "1597     10.2        5  \n",
       "1598     11.0        6  \n",
       "\n",
       "[1599 rows x 12 columns]"
      ]
     },
     "execution_count": 5,
     "metadata": {},
     "output_type": "execute_result"
    }
   ],
   "source": [
    "dfwine_red"
   ]
  },
  {
   "cell_type": "markdown",
   "id": "904f3d6f-1c85-4f57-994a-be306357595f",
   "metadata": {},
   "source": [
    "https://www.easytweaks.com/pandas-mean-column-dataframe/"
   ]
  },
  {
   "cell_type": "code",
   "execution_count": 6,
   "id": "6eb993b3-5dc3-4615-bbf5-2ce39f1e912b",
   "metadata": {},
   "outputs": [
    {
     "data": {
      "text/html": [
       "<div>\n",
       "<style scoped>\n",
       "    .dataframe tbody tr th:only-of-type {\n",
       "        vertical-align: middle;\n",
       "    }\n",
       "\n",
       "    .dataframe tbody tr th {\n",
       "        vertical-align: top;\n",
       "    }\n",
       "\n",
       "    .dataframe thead th {\n",
       "        text-align: right;\n",
       "    }\n",
       "</style>\n",
       "<table border=\"1\" class=\"dataframe\">\n",
       "  <thead>\n",
       "    <tr style=\"text-align: right;\">\n",
       "      <th></th>\n",
       "      <th>fixed acidity</th>\n",
       "      <th>volatile acidity</th>\n",
       "      <th>citric acid</th>\n",
       "      <th>residual sugar</th>\n",
       "      <th>chlorides</th>\n",
       "      <th>free sulfur dioxide</th>\n",
       "      <th>total sulfur dioxide</th>\n",
       "      <th>density</th>\n",
       "      <th>pH</th>\n",
       "      <th>sulphates</th>\n",
       "      <th>alcohol</th>\n",
       "      <th>quality</th>\n",
       "    </tr>\n",
       "  </thead>\n",
       "  <tbody>\n",
       "    <tr>\n",
       "      <th>count</th>\n",
       "      <td>1599.0</td>\n",
       "      <td>1599.0</td>\n",
       "      <td>1599.0</td>\n",
       "      <td>1599.0</td>\n",
       "      <td>1599.0</td>\n",
       "      <td>1599.0</td>\n",
       "      <td>1599.0</td>\n",
       "      <td>1599.0</td>\n",
       "      <td>1599.0</td>\n",
       "      <td>1599.0</td>\n",
       "      <td>1599.0</td>\n",
       "      <td>1599.0</td>\n",
       "    </tr>\n",
       "    <tr>\n",
       "      <th>mean</th>\n",
       "      <td>8.0</td>\n",
       "      <td>1.0</td>\n",
       "      <td>0.0</td>\n",
       "      <td>3.0</td>\n",
       "      <td>0.0</td>\n",
       "      <td>16.0</td>\n",
       "      <td>46.0</td>\n",
       "      <td>1.0</td>\n",
       "      <td>3.0</td>\n",
       "      <td>1.0</td>\n",
       "      <td>10.0</td>\n",
       "      <td>6.0</td>\n",
       "    </tr>\n",
       "    <tr>\n",
       "      <th>std</th>\n",
       "      <td>2.0</td>\n",
       "      <td>0.0</td>\n",
       "      <td>0.0</td>\n",
       "      <td>1.0</td>\n",
       "      <td>0.0</td>\n",
       "      <td>10.0</td>\n",
       "      <td>33.0</td>\n",
       "      <td>0.0</td>\n",
       "      <td>0.0</td>\n",
       "      <td>0.0</td>\n",
       "      <td>1.0</td>\n",
       "      <td>1.0</td>\n",
       "    </tr>\n",
       "    <tr>\n",
       "      <th>min</th>\n",
       "      <td>5.0</td>\n",
       "      <td>0.0</td>\n",
       "      <td>0.0</td>\n",
       "      <td>1.0</td>\n",
       "      <td>0.0</td>\n",
       "      <td>1.0</td>\n",
       "      <td>6.0</td>\n",
       "      <td>1.0</td>\n",
       "      <td>3.0</td>\n",
       "      <td>0.0</td>\n",
       "      <td>8.0</td>\n",
       "      <td>3.0</td>\n",
       "    </tr>\n",
       "    <tr>\n",
       "      <th>25%</th>\n",
       "      <td>7.0</td>\n",
       "      <td>0.0</td>\n",
       "      <td>0.0</td>\n",
       "      <td>2.0</td>\n",
       "      <td>0.0</td>\n",
       "      <td>7.0</td>\n",
       "      <td>22.0</td>\n",
       "      <td>1.0</td>\n",
       "      <td>3.0</td>\n",
       "      <td>1.0</td>\n",
       "      <td>10.0</td>\n",
       "      <td>5.0</td>\n",
       "    </tr>\n",
       "    <tr>\n",
       "      <th>50%</th>\n",
       "      <td>8.0</td>\n",
       "      <td>1.0</td>\n",
       "      <td>0.0</td>\n",
       "      <td>2.0</td>\n",
       "      <td>0.0</td>\n",
       "      <td>14.0</td>\n",
       "      <td>38.0</td>\n",
       "      <td>1.0</td>\n",
       "      <td>3.0</td>\n",
       "      <td>1.0</td>\n",
       "      <td>10.0</td>\n",
       "      <td>6.0</td>\n",
       "    </tr>\n",
       "    <tr>\n",
       "      <th>75%</th>\n",
       "      <td>9.0</td>\n",
       "      <td>1.0</td>\n",
       "      <td>0.0</td>\n",
       "      <td>3.0</td>\n",
       "      <td>0.0</td>\n",
       "      <td>21.0</td>\n",
       "      <td>62.0</td>\n",
       "      <td>1.0</td>\n",
       "      <td>3.0</td>\n",
       "      <td>1.0</td>\n",
       "      <td>11.0</td>\n",
       "      <td>6.0</td>\n",
       "    </tr>\n",
       "    <tr>\n",
       "      <th>max</th>\n",
       "      <td>16.0</td>\n",
       "      <td>2.0</td>\n",
       "      <td>1.0</td>\n",
       "      <td>16.0</td>\n",
       "      <td>1.0</td>\n",
       "      <td>72.0</td>\n",
       "      <td>289.0</td>\n",
       "      <td>1.0</td>\n",
       "      <td>4.0</td>\n",
       "      <td>2.0</td>\n",
       "      <td>15.0</td>\n",
       "      <td>8.0</td>\n",
       "    </tr>\n",
       "  </tbody>\n",
       "</table>\n",
       "</div>"
      ],
      "text/plain": [
       "       fixed acidity  volatile acidity  citric acid  residual sugar  \\\n",
       "count         1599.0            1599.0       1599.0          1599.0   \n",
       "mean             8.0               1.0          0.0             3.0   \n",
       "std              2.0               0.0          0.0             1.0   \n",
       "min              5.0               0.0          0.0             1.0   \n",
       "25%              7.0               0.0          0.0             2.0   \n",
       "50%              8.0               1.0          0.0             2.0   \n",
       "75%              9.0               1.0          0.0             3.0   \n",
       "max             16.0               2.0          1.0            16.0   \n",
       "\n",
       "       chlorides  free sulfur dioxide  total sulfur dioxide  density      pH  \\\n",
       "count     1599.0               1599.0                1599.0   1599.0  1599.0   \n",
       "mean         0.0                 16.0                  46.0      1.0     3.0   \n",
       "std          0.0                 10.0                  33.0      0.0     0.0   \n",
       "min          0.0                  1.0                   6.0      1.0     3.0   \n",
       "25%          0.0                  7.0                  22.0      1.0     3.0   \n",
       "50%          0.0                 14.0                  38.0      1.0     3.0   \n",
       "75%          0.0                 21.0                  62.0      1.0     3.0   \n",
       "max          1.0                 72.0                 289.0      1.0     4.0   \n",
       "\n",
       "       sulphates  alcohol  quality  \n",
       "count     1599.0   1599.0   1599.0  \n",
       "mean         1.0     10.0      6.0  \n",
       "std          0.0      1.0      1.0  \n",
       "min          0.0      8.0      3.0  \n",
       "25%          1.0     10.0      5.0  \n",
       "50%          1.0     10.0      6.0  \n",
       "75%          1.0     11.0      6.0  \n",
       "max          2.0     15.0      8.0  "
      ]
     },
     "execution_count": 6,
     "metadata": {},
     "output_type": "execute_result"
    }
   ],
   "source": [
    "dfwine_red.describe().round()"
   ]
  },
  {
   "cell_type": "code",
   "execution_count": 7,
   "id": "68112d2b-8ae4-487b-8c51-ae6968cc4164",
   "metadata": {},
   "outputs": [
    {
     "data": {
      "text/plain": [
       "8.319637273295838"
      ]
     },
     "execution_count": 7,
     "metadata": {},
     "output_type": "execute_result"
    }
   ],
   "source": [
    "dfwine_red['fixed acidity'].mean()"
   ]
  },
  {
   "cell_type": "code",
   "execution_count": 8,
   "id": "37a7d906-1f16-449c-97c4-c024810c1daa",
   "metadata": {},
   "outputs": [
    {
     "data": {
      "text/plain": [
       "fixed acidity            8.319637\n",
       "volatile acidity         0.527821\n",
       "citric acid              0.270976\n",
       "residual sugar           2.538806\n",
       "chlorides                0.087467\n",
       "free sulfur dioxide     15.874922\n",
       "total sulfur dioxide    46.467792\n",
       "density                  0.996747\n",
       "pH                       3.311113\n",
       "sulphates                0.658149\n",
       "alcohol                 10.422983\n",
       "dtype: float64"
      ]
     },
     "execution_count": 8,
     "metadata": {},
     "output_type": "execute_result"
    }
   ],
   "source": [
    "cols = ['fixed acidity', 'volatile acidity' ,'citric acid', 'residual sugar', 'chlorides' ,'free sulfur dioxide', 'total sulfur dioxide', 'density', 'pH', 'sulphates', 'alcohol']\n",
    "dfwine_red[cols].mean()"
   ]
  },
  {
   "cell_type": "code",
   "execution_count": 9,
   "id": "bb8210e8-4d3a-4cc6-b2a2-744750c6c3ff",
   "metadata": {},
   "outputs": [
    {
     "data": {
      "text/plain": [
       "fixed acidity            1.741096\n",
       "volatile acidity         0.179060\n",
       "citric acid              0.194801\n",
       "residual sugar           1.409928\n",
       "chlorides                0.047065\n",
       "free sulfur dioxide     10.460157\n",
       "total sulfur dioxide    32.895324\n",
       "density                  0.001887\n",
       "pH                       0.154386\n",
       "sulphates                0.169507\n",
       "alcohol                  1.065668\n",
       "dtype: float64"
      ]
     },
     "execution_count": 9,
     "metadata": {},
     "output_type": "execute_result"
    }
   ],
   "source": [
    "cols = ['fixed acidity', 'volatile acidity' ,'citric acid', 'residual sugar', 'chlorides' ,'free sulfur dioxide', 'total sulfur dioxide', 'density', 'pH', 'sulphates', 'alcohol']\n",
    "dfwine_red[cols].std()"
   ]
  },
  {
   "cell_type": "markdown",
   "id": "97d123df-22db-4bd9-817e-2f9945c077a3",
   "metadata": {},
   "source": [
    "### research more into the reasons for unmatched histograms i.e. how better to simulate from a dataset using numpy"
   ]
  },
  {
   "cell_type": "code",
   "execution_count": 10,
   "id": "d340c058-1a6a-40c6-b3ac-e383bfe2ac34",
   "metadata": {},
   "outputs": [],
   "source": [
    "# create a random array with the mean and std. dev. of the original data\n",
    "fixed_acidity = np.random.normal(loc=8.319637, scale=1.741096, size=1000)"
   ]
  },
  {
   "cell_type": "code",
   "execution_count": 11,
   "id": "03a2dae3-a60d-4c4e-a7e4-661d08383736",
   "metadata": {},
   "outputs": [
    {
     "data": {
      "image/png": "[encoded data removed]",
      "text/plain": [
       "<Figure size 432x288 with 1 Axes>"
      ]
     },
     "metadata": {
      "needs_background": "light"
     },
     "output_type": "display_data"
    }
   ],
   "source": [
    "import matplotlib.pyplot as plt\n",
    "\n",
    "plt.hist(fixed_acidity, bins = 20)\n",
    "plt.show()"
   ]
  },
  {
   "cell_type": "code",
   "execution_count": 12,
   "id": "38b59dd0-59c5-490a-9e4c-de444ce2ce09",
   "metadata": {},
   "outputs": [
    {
     "data": {
      "text/plain": [
       "array([[<AxesSubplot:title={'center':'fixed acidity'}>]], dtype=object)"
      ]
     },
     "execution_count": 12,
     "metadata": {},
     "output_type": "execute_result"
    },
    {
     "data": {
      "image/png": "[encoded data removed]",
      "text/plain": [
       "<Figure size 432x288 with 1 Axes>"
      ]
     },
     "metadata": {
      "needs_background": "light"
     },
     "output_type": "display_data"
    }
   ],
   "source": [
    "dfwine_red.hist(column='fixed acidity')"
   ]
  },
  {
   "cell_type": "code",
   "execution_count": 13,
   "id": "32f853ff-e856-4569-8cf5-8bd74ed6890d",
   "metadata": {},
   "outputs": [
    {
     "ename": "SyntaxError",
     "evalue": "invalid syntax (<ipython-input-13-6889b9063cde>, line 1)",
     "output_type": "error",
     "traceback": [
      "\u001b[1;36m  File \u001b[1;32m\"<ipython-input-13-6889b9063cde>\"\u001b[1;36m, line \u001b[1;32m1\u001b[0m\n\u001b[1;33m    plt.hist(dfwine_red['fixed acidity', bins = 20)\u001b[0m\n\u001b[1;37m                                              ^\u001b[0m\n\u001b[1;31mSyntaxError\u001b[0m\u001b[1;31m:\u001b[0m invalid syntax\n"
     ]
    }
   ],
   "source": [
    "plt.hist(dfwine_red['fixed acidity', bins = 20)\n",
    "plt.show()"
   ]
  },
  {
   "cell_type": "code",
   "execution_count": null,
   "id": "549df89a-0a34-4746-82f4-6a70bac2e443",
   "metadata": {},
   "outputs": [],
   "source": [
    "dfwine_red_mean = pd.DataFrame(dfwine_red.mean(), columns=['mean_values'])\n",
    "\n",
    "#create list of mean values\n",
    "mean_list = dfwine_red.mean().to_list\n",
    "#plot the means of each attribute (column) as a bar chart\n",
    "dfwine_red.mean().plot(kind='bar');"
   ]
  },
  {
   "cell_type": "code",
   "execution_count": null,
   "id": "cb860356-8cf2-4362-9010-4ed68ad8c452",
   "metadata": {},
   "outputs": [],
   "source": [
    "dice_roll = np.random.randint(1, 7)\n",
    "assert 1 <= dice_roll <= 6"
   ]
  },
  {
   "cell_type": "code",
   "execution_count": null,
   "id": "dad1861d-f807-42ff-916c-31aaef98eff3",
   "metadata": {},
   "outputs": [],
   "source": [
    "#Seeding reproducible random dice-rolls\n",
    "np.random.seed(0)\n",
    "dice_rolls = [np.random.randint(1, 7) for _ in range(3)]\n",
    "assert dice_rolls == [5, 6, 1]"
   ]
  },
  {
   "cell_type": "code",
   "execution_count": null,
   "id": "50edd8cd-546a-4417-99b4-939c988152aa",
   "metadata": {},
   "outputs": [],
   "source": [
    "# Simulating one fair coin-flip\n",
    "\n",
    "np.random.seed(0)\n",
    "coin_flip = np.random.randint(0, 2)\n",
    "print(f\"Coin landed on {'heads' if coin_flip == 1 else 'tails'}\")"
   ]
  },
  {
   "cell_type": "code",
   "execution_count": null,
   "id": "0739e972-92b1-4d2d-b889-0ae1e9d95145",
   "metadata": {},
   "outputs": [],
   "source": [
    "# Simulating 10 fair coin-flips\n",
    "\n",
    "np.random.seed(0)\n",
    "def frequency_heads(coin_flip_sequence):\n",
    "    total_heads = sum(coin_flip_sequence)\n",
    "    return total_heads / len(coin_flip_sequence)\n",
    "\n",
    "coin_flips = [np.random.randint(0, 2) for _ in range(10)]\n",
    "freq_heads = frequency_heads(coin_flips)\n",
    "print(f\"Frequency of Heads is {freq_heads}\")"
   ]
  },
  {
   "cell_type": "code",
   "execution_count": null,
   "id": "0455c860-d448-4c2c-a5cd-c5d5ba025422",
   "metadata": {},
   "outputs": [],
   "source": [
    "# Plotting simulated fair coin-flip frequencies\n",
    "\n",
    "np.random.seed(0)\n",
    "coin_flips = []\n",
    "frequencies = []\n",
    "for _ in range(1000):\n",
    "    coin_flips.append(np.random.randint(0, 2))\n",
    "    frequencies.append(frequency_heads(coin_flips))\n",
    "\n",
    "plt.plot(list(range(1000)), frequencies)\n",
    "plt.axhline(.5, color='k')\n",
    "plt.xlabel('Number of Coin Flips')\n",
    "plt.ylabel('Head-Frequency')\n",
    "plt.show()"
   ]
  },
  {
   "cell_type": "code",
   "execution_count": null,
   "id": "e98a444d-c022-451c-80d8-cd9a554b779a",
   "metadata": {},
   "outputs": [],
   "source": [
    "# Simulating biased coin-flips\n",
    "\n",
    "np.random.seed(0)\n",
    "print(\"Lets flip the biased coin once.\")\n",
    "coin_flip = np.random.binomial(1, .7)\n",
    "print(f\"Biased coin landed on {'heads' if coin_flip == 1 else 'tails'}.\")\n",
    "\n",
    "print(\"\\nLets flip the biased coin 10 times.\")\n",
    "number_coin_flips = 10\n",
    "head_count = np.random.binomial(number_coin_flips, .7)\n",
    "print((f\"{head_count} heads were observed out of \"\n",
    "       f\"{number_coin_flips} biased coin flips\"))"
   ]
  },
  {
   "cell_type": "code",
   "execution_count": null,
   "id": "878a23a9-9d45-4eef-b2ea-09be5c3de1cb",
   "metadata": {},
   "outputs": [],
   "source": [
    "# Computing coin-flip frequency convergence\n",
    "\n",
    "np.random.seed(0)\n",
    "head_count = np.random.binomial(1000, .7)\n",
    "frequency = head_count / 1000\n",
    "print(f\"Frequency of Heads is {frequency}\")"
   ]
  },
  {
   "cell_type": "code",
   "execution_count": null,
   "id": "f6eed693-647a-4d9d-9df7-d9e2216991b7",
   "metadata": {},
   "outputs": [],
   "source": [
    "# Re-computing coin-flip frequency convergence\n",
    "\n",
    "np.random.seed(0)\n",
    "assert np.random.binomial(1000, .7) / 1000 == 0.697\n",
    "for i in range(1, 6):\n",
    "    head_count = np.random.binomial(1000, .7)\n",
    "    frequency = head_count / 1000\n",
    "    print(f\"Frequency at iteration {i} is {frequency}\")\n",
    "    if frequency == 0.7:\n",
    "        print(\"Frequency equals the probability!\\n\")"
   ]
  },
  {
   "cell_type": "code",
   "execution_count": null,
   "id": "437f63e2-36f8-415f-8175-97aadd0d9673",
   "metadata": {},
   "outputs": [],
   "source": [
    "np.random.randint(x, y)"
   ]
  },
  {
   "cell_type": "code",
   "execution_count": null,
   "id": "4421a963-bca2-4dea-9eb5-68f448bfde7c",
   "metadata": {},
   "outputs": [],
   "source": [
    "np.random.binomial(1, p)"
   ]
  },
  {
   "cell_type": "code",
   "execution_count": null,
   "id": "9460eca9-a719-441c-b9d2-6aa03e7e3f2b",
   "metadata": {},
   "outputs": [],
   "source": [
    "np.random.binomial(x, p)"
   ]
  },
  {
   "cell_type": "code",
   "execution_count": null,
   "id": "6ff60b05-3dd8-4bfb-a657-85934fa3eea6",
   "metadata": {},
   "outputs": [],
   "source": [
    "np.random.binomial(x, p, size=y)"
   ]
  },
  {
   "cell_type": "code",
   "execution_count": null,
   "id": "644ce1b4-2d38-4866-84ea-7d3b29069ef9",
   "metadata": {},
   "outputs": [],
   "source": [
    "plt.hist(frequency_array, bins='auto', edgecolor='black')\n",
    "plt.xlabel('Binned Frequency')\n",
    "plt.ylabel('Count')\n",
    "plt.show()"
   ]
  },
  {
   "cell_type": "code",
   "execution_count": null,
   "id": "87c14621-7ea9-4632-86fd-24ea5ff923c7",
   "metadata": {},
   "outputs": [],
   "source": [
    "# Plotting a histogram’s relative likelihoods\n",
    "likelihoods, bin_edges, _ = plt.hist(frequency_array, bins='auto', edgecolor='black', density=True)\n",
    "plt.xlabel('Binned Frequency')\n",
    "plt.ylabel('Relative Likelihood')\n",
    "plt.show()"
   ]
  },
  {
   "cell_type": "code",
   "execution_count": null,
   "id": "db8b970d-bea4-4942-beb5-def6697f86c5",
   "metadata": {},
   "outputs": [],
   "source": [
    "# Coloring histogram bars over an interval\n",
    "\n",
    "likelihoods, bin_edges, patches = plt.hist(frequency_array, bins='auto',\n",
    "                                           edgecolor='black', density=True)\n",
    "bin_width = bin_edges[1] - bin_edges[0]\n",
    "start_index, end_index = compute_high_confidence_interval(likelihoods,\n",
    "                                                          bin_width)\n",
    "\n",
    "for i in range(start_index, end_index):\n",
    "     patches[i].set_facecolor('yellow')\n",
    "plt.xlabel('Binned Frequency')\n",
    "plt.ylabel('Relative Likelihood')\n",
    "\n",
    "plt.show()"
   ]
  },
  {
   "cell_type": "markdown",
   "id": "0b87433c-d71c-4292-8895-3927961bf61b",
   "metadata": {},
   "source": [
    "### USEFUL HISTOGRAM FUNCTIONS"
   ]
  },
  {
   "cell_type": "code",
   "execution_count": null,
   "id": "5b1b3dfa-0903-488c-90ea-8f3d5c0e95fc",
   "metadata": {},
   "outputs": [],
   "source": [
    "plt.hist(data, num_bins=10)"
   ]
  },
  {
   "cell_type": "code",
   "execution_count": null,
   "id": "0357d49c-b4e5-4fdc-9f74-c58bfe43bbc4",
   "metadata": {},
   "outputs": [],
   "source": [
    "plt.hist(data, num_bins=auto)"
   ]
  },
  {
   "cell_type": "code",
   "execution_count": null,
   "id": "ce9e8d8b-103d-4b54-a2cf-a6046df1c52b",
   "metadata": {},
   "outputs": [],
   "source": [
    "plt.hist(data, edges=black)"
   ]
  },
  {
   "cell_type": "code",
   "execution_count": null,
   "id": "d965e5c1-bce9-4dee-92b7-2451e541d9bd",
   "metadata": {},
   "outputs": [],
   "source": [
    "counts, _, _ = plt.hist(data)"
   ]
  },
  {
   "cell_type": "code",
   "execution_count": null,
   "id": "cd26d5bb-afa9-41f8-901b-3b1fb70974db",
   "metadata": {},
   "outputs": [],
   "source": [
    "_, bin_edges, _ = plt.hist(data)"
   ]
  },
  {
   "cell_type": "code",
   "execution_count": null,
   "id": "2aa86f82-160e-46ef-a810-929ff72025ea",
   "metadata": {},
   "outputs": [],
   "source": [
    "likelihoods, _, _ = plt.hist(data, density=True)"
   ]
  },
  {
   "cell_type": "code",
   "execution_count": null,
   "id": "c5655c05-6cee-43a1-91ee-4e801dbf0252",
   "metadata": {},
   "outputs": [],
   "source": [
    "_, _, patches = plt.hist(data)"
   ]
  },
  {
   "cell_type": "code",
   "execution_count": null,
   "id": "b9d952a8-05cc-41b7-8111-29fa7a8a83e6",
   "metadata": {},
   "outputs": [],
   "source": [
    "likelihoods, bin_edges = np.histogram(data, density=True)"
   ]
  },
  {
   "cell_type": "code",
   "execution_count": null,
   "id": "df0515b8-14aa-4fab-90b4-4d8cca50d71d",
   "metadata": {},
   "outputs": [],
   "source": []
  },
  {
   "cell_type": "code",
   "execution_count": null,
   "id": "99824745-72e8-4729-a5b6-097c114af4b8",
   "metadata": {},
   "outputs": [],
   "source": [
    "np.random.seed(0)\n",
    "print(\"Lets flip the biased coin once.\")\n",
    "coin_flip = np.random.binomial(1, .7)\n",
    "print(f\"Biased coin landed on {'heads' if coin_flip == 1 else 'tails'}.\")\n",
    "\n",
    "print(\"\\nLets flip the biased coin 10 times.\")\n",
    "number_coin_flips = 10\n",
    "head_count = np.random.binomial(number_coin_flips, .7)\n",
    "print((f\"{head_count} heads were observed out of \"\n",
    "       f\"{number_coin_flips} biased coin flips\"))"
   ]
  },
  {
   "cell_type": "markdown",
   "id": "86fa976b-869f-4670-a8a0-03729c5fafea",
   "metadata": {},
   "source": [
    "### Summary\n",
    "The np.random.binomial method can simulate random coin-flips. The method gets its name from the Binomial distribution, which is a generic distribution that captures coin-flip probabilities.\n",
    "When a coin is flipped repeatedly, its frequency of heads converges towards the actual probability of heads. However, the final frequency might differ slightly from the actual probability.\n",
    "We can visualize the variability of recorded coin-flip frequencies by plotting a histogram. A histogram shows binned counts of observed numeric values. The counts can be transformed into relative likelihoods, so that the area beneath the histogram sums to 1. Effectively, the transformed histogram becomes a probability distribution. The area around the distribution’s peak represents a confidence interval. A confidence interval is the likelihood that an unknown probability falls within a certain frequency range. Generally, we prefer a confidence interval that is at 95% or higher.\n",
    "The shape of a frequency histogram will resemble a bell-shaped curve when the number of sampled frequencies is high. This curve is commonly referred to as the Bell curve, or the Normal distribution. According to the Central Limit Theorem, the 95% confidence interval associated with the Bell curve will grow more narrow as the size of each frequency sample goes up.\n",
    "Simulated card shuffles can be carried out using the np.random.permutation method. The method returns a random permutation of the inputted deck of cards. The permutation represents a random ordering of card elements. We can iterate over every possible permutation by calling itertools.permutations. Iterating over all the permutations for a 52 card deck is computationally impossible. However, we can easily capture all the permutations of a smaller 10-card deck. These permutations can be used to compute the small deck’s sample space."
   ]
  },
  {
   "cell_type": "code",
   "execution_count": null,
   "id": "c38a7818-c4f5-442b-b9be-2c6ca1ea3c25",
   "metadata": {},
   "outputs": [],
   "source": [
    "# df = pd.read_csv(\"https://ws.cso.ie/public/api.restful/PxStat.Data.Cube_API.ReadDataset/TAA05/CSV/1.0/en\")"
   ]
  },
  {
   "cell_type": "code",
   "execution_count": null,
   "id": "65cd73bb-c883-4c18-83ed-08f94c435e28",
   "metadata": {},
   "outputs": [],
   "source": [
    "#df=pd.read_csv(\"https://raw.githubusercontent.com/uiuc-cse/data-fa14/gh-pages/data/iris.csv\")"
   ]
  }
 ],
 "metadata": {
  "kernelspec": {
   "display_name": "Python 3",
   "language": "python",
   "name": "python3"
  },
  "language_info": {
   "codemirror_mode": {
    "name": "ipython",
    "version": 3
   },
   "file_extension": ".py",
   "mimetype": "text/x-python",
   "name": "python",
   "nbconvert_exporter": "python",
   "pygments_lexer": "ipython3",
   "version": "3.8.8"
  }
 },
 "nbformat": 4,
 "nbformat_minor": 5
}
